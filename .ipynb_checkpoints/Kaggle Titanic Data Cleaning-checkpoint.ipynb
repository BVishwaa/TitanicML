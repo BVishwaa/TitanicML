{
 "cells": [
  {
   "cell_type": "markdown",
   "id": "5e5c3a62",
   "metadata": {},
   "source": [
    "# Titanic Kaggle Competition"
   ]
  },
  {
   "cell_type": "code",
   "execution_count": 1,
   "id": "901d59f5",
   "metadata": {},
   "outputs": [],
   "source": [
    "# Basic imports\n",
    "import numpy as np\n",
    "import pandas as pd\n",
    "import re\n",
    "import matplotlib.pyplot as plt\n",
    "import seaborn as sns\n",
    "%matplotlib inline\n",
    "import plotly.graph_objs as go\n",
    "from ipywidgets import interact"
   ]
  },
  {
   "cell_type": "code",
   "execution_count": 2,
   "id": "e3abdb5c",
   "metadata": {},
   "outputs": [],
   "source": [
    "train_data = pd.read_csv(\"titanic_datasets/train.csv\")\n",
    "test_data = pd.read_csv(\"titanic_datasets/test.csv\")\n",
    "gender_data = pd.read_csv(\"titanic_datasets/gender_submission.csv\")"
   ]
  },
  {
   "cell_type": "markdown",
   "id": "05469be5",
   "metadata": {},
   "source": [
    "### Exploring a Pattern"
   ]
  },
  {
   "cell_type": "code",
   "execution_count": 3,
   "id": "e308e2fe",
   "metadata": {},
   "outputs": [
    {
     "name": "stdout",
     "output_type": "stream",
     "text": [
      "% of women who survived: 0.7420382165605095\n"
     ]
    }
   ],
   "source": [
    "women = train_data.loc[train_data.Sex == 'female'][\"Survived\"]\n",
    "rate_women = sum(women)/len(women)\n",
    "\n",
    "print(\"% of women who survived:\", rate_women)\n",
    "\n"
   ]
  },
  {
   "cell_type": "code",
   "execution_count": 4,
   "id": "a46c504a",
   "metadata": {},
   "outputs": [
    {
     "name": "stdout",
     "output_type": "stream",
     "text": [
      "% of men who survived: 0.18890814558058924\n"
     ]
    }
   ],
   "source": [
    "men = train_data.loc[train_data.Sex == 'male'][\"Survived\"]\n",
    "rate_men = sum(men)/len(men)\n",
    "\n",
    "print(\"% of men who survived:\", rate_men)"
   ]
  },
  {
   "cell_type": "markdown",
   "id": "f5bb09ab",
   "metadata": {},
   "source": [
    "### Joining DataFrames for Test Dataset"
   ]
  },
  {
   "cell_type": "code",
   "execution_count": 5,
   "id": "55c77076",
   "metadata": {},
   "outputs": [
    {
     "data": {
      "text/html": [
       "<div>\n",
       "<style scoped>\n",
       "    .dataframe tbody tr th:only-of-type {\n",
       "        vertical-align: middle;\n",
       "    }\n",
       "\n",
       "    .dataframe tbody tr th {\n",
       "        vertical-align: top;\n",
       "    }\n",
       "\n",
       "    .dataframe thead th {\n",
       "        text-align: right;\n",
       "    }\n",
       "</style>\n",
       "<table border=\"1\" class=\"dataframe\">\n",
       "  <thead>\n",
       "    <tr style=\"text-align: right;\">\n",
       "      <th></th>\n",
       "      <th>PassengerId</th>\n",
       "      <th>Pclass</th>\n",
       "      <th>Name</th>\n",
       "      <th>Sex</th>\n",
       "      <th>Age</th>\n",
       "      <th>SibSp</th>\n",
       "      <th>Parch</th>\n",
       "      <th>Ticket</th>\n",
       "      <th>Fare</th>\n",
       "      <th>Cabin</th>\n",
       "      <th>Embarked</th>\n",
       "      <th>Survived</th>\n",
       "    </tr>\n",
       "  </thead>\n",
       "  <tbody>\n",
       "    <tr>\n",
       "      <th>0</th>\n",
       "      <td>892</td>\n",
       "      <td>3</td>\n",
       "      <td>Kelly, Mr. James</td>\n",
       "      <td>male</td>\n",
       "      <td>34.5</td>\n",
       "      <td>0</td>\n",
       "      <td>0</td>\n",
       "      <td>330911</td>\n",
       "      <td>7.8292</td>\n",
       "      <td>NaN</td>\n",
       "      <td>Q</td>\n",
       "      <td>0</td>\n",
       "    </tr>\n",
       "    <tr>\n",
       "      <th>1</th>\n",
       "      <td>893</td>\n",
       "      <td>3</td>\n",
       "      <td>Wilkes, Mrs. James (Ellen Needs)</td>\n",
       "      <td>female</td>\n",
       "      <td>47.0</td>\n",
       "      <td>1</td>\n",
       "      <td>0</td>\n",
       "      <td>363272</td>\n",
       "      <td>7.0000</td>\n",
       "      <td>NaN</td>\n",
       "      <td>S</td>\n",
       "      <td>1</td>\n",
       "    </tr>\n",
       "    <tr>\n",
       "      <th>2</th>\n",
       "      <td>894</td>\n",
       "      <td>2</td>\n",
       "      <td>Myles, Mr. Thomas Francis</td>\n",
       "      <td>male</td>\n",
       "      <td>62.0</td>\n",
       "      <td>0</td>\n",
       "      <td>0</td>\n",
       "      <td>240276</td>\n",
       "      <td>9.6875</td>\n",
       "      <td>NaN</td>\n",
       "      <td>Q</td>\n",
       "      <td>0</td>\n",
       "    </tr>\n",
       "    <tr>\n",
       "      <th>3</th>\n",
       "      <td>895</td>\n",
       "      <td>3</td>\n",
       "      <td>Wirz, Mr. Albert</td>\n",
       "      <td>male</td>\n",
       "      <td>27.0</td>\n",
       "      <td>0</td>\n",
       "      <td>0</td>\n",
       "      <td>315154</td>\n",
       "      <td>8.6625</td>\n",
       "      <td>NaN</td>\n",
       "      <td>S</td>\n",
       "      <td>0</td>\n",
       "    </tr>\n",
       "    <tr>\n",
       "      <th>4</th>\n",
       "      <td>896</td>\n",
       "      <td>3</td>\n",
       "      <td>Hirvonen, Mrs. Alexander (Helga E Lindqvist)</td>\n",
       "      <td>female</td>\n",
       "      <td>22.0</td>\n",
       "      <td>1</td>\n",
       "      <td>1</td>\n",
       "      <td>3101298</td>\n",
       "      <td>12.2875</td>\n",
       "      <td>NaN</td>\n",
       "      <td>S</td>\n",
       "      <td>1</td>\n",
       "    </tr>\n",
       "  </tbody>\n",
       "</table>\n",
       "</div>"
      ],
      "text/plain": [
       "   PassengerId  Pclass                                          Name     Sex  \\\n",
       "0          892       3                              Kelly, Mr. James    male   \n",
       "1          893       3              Wilkes, Mrs. James (Ellen Needs)  female   \n",
       "2          894       2                     Myles, Mr. Thomas Francis    male   \n",
       "3          895       3                              Wirz, Mr. Albert    male   \n",
       "4          896       3  Hirvonen, Mrs. Alexander (Helga E Lindqvist)  female   \n",
       "\n",
       "    Age  SibSp  Parch   Ticket     Fare Cabin Embarked  Survived  \n",
       "0  34.5      0      0   330911   7.8292   NaN        Q         0  \n",
       "1  47.0      1      0   363272   7.0000   NaN        S         1  \n",
       "2  62.0      0      0   240276   9.6875   NaN        Q         0  \n",
       "3  27.0      0      0   315154   8.6625   NaN        S         0  \n",
       "4  22.0      1      1  3101298  12.2875   NaN        S         1  "
      ]
     },
     "execution_count": 5,
     "metadata": {},
     "output_type": "execute_result"
    }
   ],
   "source": [
    "test_data = pd.merge(test_data,gender_data)      #small data pipeline   #have survived variable in test_data \n",
    "\n",
    "test_data.head()\n"
   ]
  },
  {
   "cell_type": "markdown",
   "id": "40dcca5c",
   "metadata": {},
   "source": [
    "### Missing Value Imputation"
   ]
  },
  {
   "cell_type": "code",
   "execution_count": 6,
   "id": "c0feaace",
   "metadata": {},
   "outputs": [
    {
     "name": "stdout",
     "output_type": "stream",
     "text": [
      "<class 'pandas.core.frame.DataFrame'>\n",
      "RangeIndex: 891 entries, 0 to 890\n",
      "Data columns (total 12 columns):\n",
      " #   Column       Non-Null Count  Dtype  \n",
      "---  ------       --------------  -----  \n",
      " 0   PassengerId  891 non-null    int64  \n",
      " 1   Survived     891 non-null    int64  \n",
      " 2   Pclass       891 non-null    int64  \n",
      " 3   Name         891 non-null    object \n",
      " 4   Sex          891 non-null    object \n",
      " 5   Age          714 non-null    float64\n",
      " 6   SibSp        891 non-null    int64  \n",
      " 7   Parch        891 non-null    int64  \n",
      " 8   Ticket       891 non-null    object \n",
      " 9   Fare         891 non-null    float64\n",
      " 10  Cabin        204 non-null    object \n",
      " 11  Embarked     889 non-null    object \n",
      "dtypes: float64(2), int64(5), object(5)\n",
      "memory usage: 83.7+ KB\n",
      "Cabin          687\n",
      "Age            177\n",
      "Embarked         2\n",
      "PassengerId      0\n",
      "Survived         0\n",
      "Pclass           0\n",
      "Name             0\n",
      "Sex              0\n",
      "SibSp            0\n",
      "Parch            0\n",
      "Ticket           0\n",
      "Fare             0\n",
      "dtype: int64\n"
     ]
    }
   ],
   "source": [
    "nan_counts = train_data.isna().sum().sort_values(ascending = False)\n",
    "summary = pd.concat([train_data.info(), nan_counts], axis=0)\n",
    "print(summary)"
   ]
  },
  {
   "cell_type": "code",
   "execution_count": 7,
   "id": "e6b53195",
   "metadata": {},
   "outputs": [
    {
     "name": "stdout",
     "output_type": "stream",
     "text": [
      "<class 'pandas.core.frame.DataFrame'>\n",
      "RangeIndex: 891 entries, 0 to 890\n",
      "Data columns (total 12 columns):\n",
      " #   Column       Non-Null Count  Dtype  \n",
      "---  ------       --------------  -----  \n",
      " 0   PassengerId  891 non-null    int64  \n",
      " 1   Survived     891 non-null    int64  \n",
      " 2   Pclass       891 non-null    int64  \n",
      " 3   Name         891 non-null    object \n",
      " 4   Sex          891 non-null    object \n",
      " 5   Age          714 non-null    float64\n",
      " 6   SibSp        891 non-null    int64  \n",
      " 7   Parch        891 non-null    int64  \n",
      " 8   Ticket       891 non-null    object \n",
      " 9   Fare         891 non-null    float64\n",
      " 10  Cabin        204 non-null    object \n",
      " 11  Embarked     889 non-null    object \n",
      "dtypes: float64(2), int64(5), object(5)\n",
      "memory usage: 83.7+ KB\n",
      "Cabin          327\n",
      "Age             86\n",
      "Fare             1\n",
      "PassengerId      0\n",
      "Pclass           0\n",
      "Name             0\n",
      "Sex              0\n",
      "SibSp            0\n",
      "Parch            0\n",
      "Ticket           0\n",
      "Embarked         0\n",
      "Survived         0\n",
      "dtype: int64\n"
     ]
    }
   ],
   "source": [
    "nan_counts = test_data.isna().sum().sort_values(ascending = False)\n",
    "summary = pd.concat([train_data.info(), nan_counts], axis=0)\n",
    "print(summary)"
   ]
  },
  {
   "cell_type": "markdown",
   "id": "276af683",
   "metadata": {},
   "source": [
    "### Data Preprocessing Steps\n",
    "\n",
    "Map sex to is_male, to use variable in the correlation plots, and ML models\n",
    "\n",
    "Map embarqued to embarqued_code {1,2,3}. Reserve the zero, for NaN values (missing value imputation for unknown variables)\n",
    "\n",
    "Split variable ticket to ticket preffix, and ticket n\n",
    "\n",
    "Group the duplication ticket values, count number of people that traveled together, including friends, maids, and nannies. Create variable \"companions\"\n",
    "\n",
    "Create variable \"family size\", by combining the number of sibling (sibsp), and parents and children (parch) (feature engineering)\n",
    "\n",
    "Extract variable \"title\", from the variable name, and categorise.\n",
    "\n",
    "Map \"fare\", to \"fare_level\", where each level is mapped in ordered ordinal encoding. This means that each category is encoded into mapping into a number.\n",
    "\n",
    "Split cabin into cabin level, cabin n, and n of cabins\n",
    "\n",
    "Map variable \"age\" into age group"
   ]
  },
  {
   "cell_type": "code",
   "execution_count": 8,
   "id": "3d37e55c",
   "metadata": {
    "scrolled": false
   },
   "outputs": [
    {
     "data": {
      "text/html": [
       "<div>\n",
       "<style scoped>\n",
       "    .dataframe tbody tr th:only-of-type {\n",
       "        vertical-align: middle;\n",
       "    }\n",
       "\n",
       "    .dataframe tbody tr th {\n",
       "        vertical-align: top;\n",
       "    }\n",
       "\n",
       "    .dataframe thead th {\n",
       "        text-align: right;\n",
       "    }\n",
       "</style>\n",
       "<table border=\"1\" class=\"dataframe\">\n",
       "  <thead>\n",
       "    <tr style=\"text-align: right;\">\n",
       "      <th></th>\n",
       "      <th>PassengerId</th>\n",
       "      <th>Survived</th>\n",
       "      <th>Pclass</th>\n",
       "      <th>Name</th>\n",
       "      <th>Sex</th>\n",
       "      <th>Age</th>\n",
       "      <th>SibSp</th>\n",
       "      <th>Parch</th>\n",
       "      <th>Ticket</th>\n",
       "      <th>Fare</th>\n",
       "      <th>Cabin</th>\n",
       "      <th>Embarked</th>\n",
       "    </tr>\n",
       "  </thead>\n",
       "  <tbody>\n",
       "    <tr>\n",
       "      <th>0</th>\n",
       "      <td>1</td>\n",
       "      <td>0</td>\n",
       "      <td>3</td>\n",
       "      <td>Braund, Mr. Owen Harris</td>\n",
       "      <td>male</td>\n",
       "      <td>22.0</td>\n",
       "      <td>1</td>\n",
       "      <td>0</td>\n",
       "      <td>A/5 21171</td>\n",
       "      <td>7.2500</td>\n",
       "      <td>NaN</td>\n",
       "      <td>S</td>\n",
       "    </tr>\n",
       "    <tr>\n",
       "      <th>1</th>\n",
       "      <td>2</td>\n",
       "      <td>1</td>\n",
       "      <td>1</td>\n",
       "      <td>Cumings, Mrs. John Bradley (Florence Briggs Th...</td>\n",
       "      <td>female</td>\n",
       "      <td>38.0</td>\n",
       "      <td>1</td>\n",
       "      <td>0</td>\n",
       "      <td>PC 17599</td>\n",
       "      <td>71.2833</td>\n",
       "      <td>C85</td>\n",
       "      <td>C</td>\n",
       "    </tr>\n",
       "    <tr>\n",
       "      <th>2</th>\n",
       "      <td>3</td>\n",
       "      <td>1</td>\n",
       "      <td>3</td>\n",
       "      <td>Heikkinen, Miss. Laina</td>\n",
       "      <td>female</td>\n",
       "      <td>26.0</td>\n",
       "      <td>0</td>\n",
       "      <td>0</td>\n",
       "      <td>STON/O2. 3101282</td>\n",
       "      <td>7.9250</td>\n",
       "      <td>NaN</td>\n",
       "      <td>S</td>\n",
       "    </tr>\n",
       "    <tr>\n",
       "      <th>3</th>\n",
       "      <td>4</td>\n",
       "      <td>1</td>\n",
       "      <td>1</td>\n",
       "      <td>Futrelle, Mrs. Jacques Heath (Lily May Peel)</td>\n",
       "      <td>female</td>\n",
       "      <td>35.0</td>\n",
       "      <td>1</td>\n",
       "      <td>0</td>\n",
       "      <td>113803</td>\n",
       "      <td>53.1000</td>\n",
       "      <td>C123</td>\n",
       "      <td>S</td>\n",
       "    </tr>\n",
       "    <tr>\n",
       "      <th>4</th>\n",
       "      <td>5</td>\n",
       "      <td>0</td>\n",
       "      <td>3</td>\n",
       "      <td>Allen, Mr. William Henry</td>\n",
       "      <td>male</td>\n",
       "      <td>35.0</td>\n",
       "      <td>0</td>\n",
       "      <td>0</td>\n",
       "      <td>373450</td>\n",
       "      <td>8.0500</td>\n",
       "      <td>NaN</td>\n",
       "      <td>S</td>\n",
       "    </tr>\n",
       "    <tr>\n",
       "      <th>...</th>\n",
       "      <td>...</td>\n",
       "      <td>...</td>\n",
       "      <td>...</td>\n",
       "      <td>...</td>\n",
       "      <td>...</td>\n",
       "      <td>...</td>\n",
       "      <td>...</td>\n",
       "      <td>...</td>\n",
       "      <td>...</td>\n",
       "      <td>...</td>\n",
       "      <td>...</td>\n",
       "      <td>...</td>\n",
       "    </tr>\n",
       "    <tr>\n",
       "      <th>886</th>\n",
       "      <td>887</td>\n",
       "      <td>0</td>\n",
       "      <td>2</td>\n",
       "      <td>Montvila, Rev. Juozas</td>\n",
       "      <td>male</td>\n",
       "      <td>27.0</td>\n",
       "      <td>0</td>\n",
       "      <td>0</td>\n",
       "      <td>211536</td>\n",
       "      <td>13.0000</td>\n",
       "      <td>NaN</td>\n",
       "      <td>S</td>\n",
       "    </tr>\n",
       "    <tr>\n",
       "      <th>887</th>\n",
       "      <td>888</td>\n",
       "      <td>1</td>\n",
       "      <td>1</td>\n",
       "      <td>Graham, Miss. Margaret Edith</td>\n",
       "      <td>female</td>\n",
       "      <td>19.0</td>\n",
       "      <td>0</td>\n",
       "      <td>0</td>\n",
       "      <td>112053</td>\n",
       "      <td>30.0000</td>\n",
       "      <td>B42</td>\n",
       "      <td>S</td>\n",
       "    </tr>\n",
       "    <tr>\n",
       "      <th>888</th>\n",
       "      <td>889</td>\n",
       "      <td>0</td>\n",
       "      <td>3</td>\n",
       "      <td>Johnston, Miss. Catherine Helen \"Carrie\"</td>\n",
       "      <td>female</td>\n",
       "      <td>NaN</td>\n",
       "      <td>1</td>\n",
       "      <td>2</td>\n",
       "      <td>W./C. 6607</td>\n",
       "      <td>23.4500</td>\n",
       "      <td>NaN</td>\n",
       "      <td>S</td>\n",
       "    </tr>\n",
       "    <tr>\n",
       "      <th>889</th>\n",
       "      <td>890</td>\n",
       "      <td>1</td>\n",
       "      <td>1</td>\n",
       "      <td>Behr, Mr. Karl Howell</td>\n",
       "      <td>male</td>\n",
       "      <td>26.0</td>\n",
       "      <td>0</td>\n",
       "      <td>0</td>\n",
       "      <td>111369</td>\n",
       "      <td>30.0000</td>\n",
       "      <td>C148</td>\n",
       "      <td>C</td>\n",
       "    </tr>\n",
       "    <tr>\n",
       "      <th>890</th>\n",
       "      <td>891</td>\n",
       "      <td>0</td>\n",
       "      <td>3</td>\n",
       "      <td>Dooley, Mr. Patrick</td>\n",
       "      <td>male</td>\n",
       "      <td>32.0</td>\n",
       "      <td>0</td>\n",
       "      <td>0</td>\n",
       "      <td>370376</td>\n",
       "      <td>7.7500</td>\n",
       "      <td>NaN</td>\n",
       "      <td>Q</td>\n",
       "    </tr>\n",
       "  </tbody>\n",
       "</table>\n",
       "<p>891 rows × 12 columns</p>\n",
       "</div>"
      ],
      "text/plain": [
       "     PassengerId  Survived  Pclass  \\\n",
       "0              1         0       3   \n",
       "1              2         1       1   \n",
       "2              3         1       3   \n",
       "3              4         1       1   \n",
       "4              5         0       3   \n",
       "..           ...       ...     ...   \n",
       "886          887         0       2   \n",
       "887          888         1       1   \n",
       "888          889         0       3   \n",
       "889          890         1       1   \n",
       "890          891         0       3   \n",
       "\n",
       "                                                  Name     Sex   Age  SibSp  \\\n",
       "0                              Braund, Mr. Owen Harris    male  22.0      1   \n",
       "1    Cumings, Mrs. John Bradley (Florence Briggs Th...  female  38.0      1   \n",
       "2                               Heikkinen, Miss. Laina  female  26.0      0   \n",
       "3         Futrelle, Mrs. Jacques Heath (Lily May Peel)  female  35.0      1   \n",
       "4                             Allen, Mr. William Henry    male  35.0      0   \n",
       "..                                                 ...     ...   ...    ...   \n",
       "886                              Montvila, Rev. Juozas    male  27.0      0   \n",
       "887                       Graham, Miss. Margaret Edith  female  19.0      0   \n",
       "888           Johnston, Miss. Catherine Helen \"Carrie\"  female   NaN      1   \n",
       "889                              Behr, Mr. Karl Howell    male  26.0      0   \n",
       "890                                Dooley, Mr. Patrick    male  32.0      0   \n",
       "\n",
       "     Parch            Ticket     Fare Cabin Embarked  \n",
       "0        0         A/5 21171   7.2500   NaN        S  \n",
       "1        0          PC 17599  71.2833   C85        C  \n",
       "2        0  STON/O2. 3101282   7.9250   NaN        S  \n",
       "3        0            113803  53.1000  C123        S  \n",
       "4        0            373450   8.0500   NaN        S  \n",
       "..     ...               ...      ...   ...      ...  \n",
       "886      0            211536  13.0000   NaN        S  \n",
       "887      0            112053  30.0000   B42        S  \n",
       "888      2        W./C. 6607  23.4500   NaN        S  \n",
       "889      0            111369  30.0000  C148        C  \n",
       "890      0            370376   7.7500   NaN        Q  \n",
       "\n",
       "[891 rows x 12 columns]"
      ]
     },
     "execution_count": 8,
     "metadata": {},
     "output_type": "execute_result"
    }
   ],
   "source": [
    "train_data"
   ]
  },
  {
   "cell_type": "code",
   "execution_count": null,
   "id": "b69c3ead",
   "metadata": {},
   "outputs": [],
   "source": []
  },
  {
   "cell_type": "code",
   "execution_count": 9,
   "id": "7e5503ed",
   "metadata": {},
   "outputs": [],
   "source": [
    "train_data = train_data.drop(['Name', 'PassengerId'], axis=1)\n",
    "test_data = test_data.drop(['Name', 'PassengerId'], axis=1)"
   ]
  },
  {
   "cell_type": "markdown",
   "id": "81ecf95a",
   "metadata": {},
   "source": []
  },
  {
   "cell_type": "code",
   "execution_count": 10,
   "id": "e0babf1c",
   "metadata": {
    "scrolled": false
   },
   "outputs": [
    {
     "data": {
      "text/html": [
       "<div>\n",
       "<style scoped>\n",
       "    .dataframe tbody tr th:only-of-type {\n",
       "        vertical-align: middle;\n",
       "    }\n",
       "\n",
       "    .dataframe tbody tr th {\n",
       "        vertical-align: top;\n",
       "    }\n",
       "\n",
       "    .dataframe thead th {\n",
       "        text-align: right;\n",
       "    }\n",
       "</style>\n",
       "<table border=\"1\" class=\"dataframe\">\n",
       "  <thead>\n",
       "    <tr style=\"text-align: right;\">\n",
       "      <th></th>\n",
       "      <th>Survived</th>\n",
       "      <th>Pclass</th>\n",
       "      <th>Sex</th>\n",
       "      <th>Age</th>\n",
       "      <th>SibSp</th>\n",
       "      <th>Parch</th>\n",
       "      <th>Ticket</th>\n",
       "      <th>Fare</th>\n",
       "      <th>Cabin</th>\n",
       "      <th>Embarked</th>\n",
       "    </tr>\n",
       "  </thead>\n",
       "  <tbody>\n",
       "    <tr>\n",
       "      <th>0</th>\n",
       "      <td>0</td>\n",
       "      <td>3</td>\n",
       "      <td>male</td>\n",
       "      <td>22.0</td>\n",
       "      <td>1</td>\n",
       "      <td>0</td>\n",
       "      <td>A/5 21171</td>\n",
       "      <td>7.2500</td>\n",
       "      <td>NaN</td>\n",
       "      <td>S</td>\n",
       "    </tr>\n",
       "    <tr>\n",
       "      <th>1</th>\n",
       "      <td>1</td>\n",
       "      <td>1</td>\n",
       "      <td>female</td>\n",
       "      <td>38.0</td>\n",
       "      <td>1</td>\n",
       "      <td>0</td>\n",
       "      <td>PC 17599</td>\n",
       "      <td>71.2833</td>\n",
       "      <td>C85</td>\n",
       "      <td>C</td>\n",
       "    </tr>\n",
       "    <tr>\n",
       "      <th>2</th>\n",
       "      <td>1</td>\n",
       "      <td>3</td>\n",
       "      <td>female</td>\n",
       "      <td>26.0</td>\n",
       "      <td>0</td>\n",
       "      <td>0</td>\n",
       "      <td>STON/O2. 3101282</td>\n",
       "      <td>7.9250</td>\n",
       "      <td>NaN</td>\n",
       "      <td>S</td>\n",
       "    </tr>\n",
       "    <tr>\n",
       "      <th>3</th>\n",
       "      <td>1</td>\n",
       "      <td>1</td>\n",
       "      <td>female</td>\n",
       "      <td>35.0</td>\n",
       "      <td>1</td>\n",
       "      <td>0</td>\n",
       "      <td>113803</td>\n",
       "      <td>53.1000</td>\n",
       "      <td>C123</td>\n",
       "      <td>S</td>\n",
       "    </tr>\n",
       "    <tr>\n",
       "      <th>4</th>\n",
       "      <td>0</td>\n",
       "      <td>3</td>\n",
       "      <td>male</td>\n",
       "      <td>35.0</td>\n",
       "      <td>0</td>\n",
       "      <td>0</td>\n",
       "      <td>373450</td>\n",
       "      <td>8.0500</td>\n",
       "      <td>NaN</td>\n",
       "      <td>S</td>\n",
       "    </tr>\n",
       "  </tbody>\n",
       "</table>\n",
       "</div>"
      ],
      "text/plain": [
       "   Survived  Pclass     Sex   Age  SibSp  Parch            Ticket     Fare  \\\n",
       "0         0       3    male  22.0      1      0         A/5 21171   7.2500   \n",
       "1         1       1  female  38.0      1      0          PC 17599  71.2833   \n",
       "2         1       3  female  26.0      0      0  STON/O2. 3101282   7.9250   \n",
       "3         1       1  female  35.0      1      0            113803  53.1000   \n",
       "4         0       3    male  35.0      0      0            373450   8.0500   \n",
       "\n",
       "  Cabin Embarked  \n",
       "0   NaN        S  \n",
       "1   C85        C  \n",
       "2   NaN        S  \n",
       "3  C123        S  \n",
       "4   NaN        S  "
      ]
     },
     "execution_count": 10,
     "metadata": {},
     "output_type": "execute_result"
    }
   ],
   "source": [
    "train_data.head()"
   ]
  },
  {
   "cell_type": "code",
   "execution_count": 11,
   "id": "a903a11f",
   "metadata": {},
   "outputs": [
    {
     "data": {
      "text/html": [
       "<div>\n",
       "<style scoped>\n",
       "    .dataframe tbody tr th:only-of-type {\n",
       "        vertical-align: middle;\n",
       "    }\n",
       "\n",
       "    .dataframe tbody tr th {\n",
       "        vertical-align: top;\n",
       "    }\n",
       "\n",
       "    .dataframe thead th {\n",
       "        text-align: right;\n",
       "    }\n",
       "</style>\n",
       "<table border=\"1\" class=\"dataframe\">\n",
       "  <thead>\n",
       "    <tr style=\"text-align: right;\">\n",
       "      <th></th>\n",
       "      <th>Pclass</th>\n",
       "      <th>Sex</th>\n",
       "      <th>Age</th>\n",
       "      <th>SibSp</th>\n",
       "      <th>Parch</th>\n",
       "      <th>Ticket</th>\n",
       "      <th>Fare</th>\n",
       "      <th>Cabin</th>\n",
       "      <th>Embarked</th>\n",
       "      <th>Survived</th>\n",
       "    </tr>\n",
       "  </thead>\n",
       "  <tbody>\n",
       "    <tr>\n",
       "      <th>0</th>\n",
       "      <td>3</td>\n",
       "      <td>male</td>\n",
       "      <td>34.5</td>\n",
       "      <td>0</td>\n",
       "      <td>0</td>\n",
       "      <td>330911</td>\n",
       "      <td>7.8292</td>\n",
       "      <td>NaN</td>\n",
       "      <td>Q</td>\n",
       "      <td>0</td>\n",
       "    </tr>\n",
       "    <tr>\n",
       "      <th>1</th>\n",
       "      <td>3</td>\n",
       "      <td>female</td>\n",
       "      <td>47.0</td>\n",
       "      <td>1</td>\n",
       "      <td>0</td>\n",
       "      <td>363272</td>\n",
       "      <td>7.0000</td>\n",
       "      <td>NaN</td>\n",
       "      <td>S</td>\n",
       "      <td>1</td>\n",
       "    </tr>\n",
       "    <tr>\n",
       "      <th>2</th>\n",
       "      <td>2</td>\n",
       "      <td>male</td>\n",
       "      <td>62.0</td>\n",
       "      <td>0</td>\n",
       "      <td>0</td>\n",
       "      <td>240276</td>\n",
       "      <td>9.6875</td>\n",
       "      <td>NaN</td>\n",
       "      <td>Q</td>\n",
       "      <td>0</td>\n",
       "    </tr>\n",
       "    <tr>\n",
       "      <th>3</th>\n",
       "      <td>3</td>\n",
       "      <td>male</td>\n",
       "      <td>27.0</td>\n",
       "      <td>0</td>\n",
       "      <td>0</td>\n",
       "      <td>315154</td>\n",
       "      <td>8.6625</td>\n",
       "      <td>NaN</td>\n",
       "      <td>S</td>\n",
       "      <td>0</td>\n",
       "    </tr>\n",
       "    <tr>\n",
       "      <th>4</th>\n",
       "      <td>3</td>\n",
       "      <td>female</td>\n",
       "      <td>22.0</td>\n",
       "      <td>1</td>\n",
       "      <td>1</td>\n",
       "      <td>3101298</td>\n",
       "      <td>12.2875</td>\n",
       "      <td>NaN</td>\n",
       "      <td>S</td>\n",
       "      <td>1</td>\n",
       "    </tr>\n",
       "  </tbody>\n",
       "</table>\n",
       "</div>"
      ],
      "text/plain": [
       "   Pclass     Sex   Age  SibSp  Parch   Ticket     Fare Cabin Embarked  \\\n",
       "0       3    male  34.5      0      0   330911   7.8292   NaN        Q   \n",
       "1       3  female  47.0      1      0   363272   7.0000   NaN        S   \n",
       "2       2    male  62.0      0      0   240276   9.6875   NaN        Q   \n",
       "3       3    male  27.0      0      0   315154   8.6625   NaN        S   \n",
       "4       3  female  22.0      1      1  3101298  12.2875   NaN        S   \n",
       "\n",
       "   Survived  \n",
       "0         0  \n",
       "1         1  \n",
       "2         0  \n",
       "3         0  \n",
       "4         1  "
      ]
     },
     "execution_count": 11,
     "metadata": {},
     "output_type": "execute_result"
    }
   ],
   "source": [
    "test_data.head()"
   ]
  },
  {
   "cell_type": "code",
   "execution_count": 12,
   "id": "751b3131",
   "metadata": {},
   "outputs": [],
   "source": [
    "# Mapping Sex bolean\n",
    "train_data['Is_male'] = train_data['Sex'].map( {'female': 0, 'male': 1} ).astype(int)\n",
    "test_data['Is_male'] = test_data['Sex'].map( {'female': 0, 'male': 1} ).astype(int)"
   ]
  },
  {
   "cell_type": "code",
   "execution_count": 13,
   "id": "0e25720d",
   "metadata": {},
   "outputs": [],
   "source": [
    "train_data = train_data.drop('Sex', axis=1)\n",
    "test_data = test_data.drop('Sex', axis=1)"
   ]
  },
  {
   "cell_type": "markdown",
   "id": "090bed59",
   "metadata": {},
   "source": [
    "### Checking for Missing Values"
   ]
  },
  {
   "cell_type": "markdown",
   "id": "9b83360e",
   "metadata": {},
   "source": [
    "### Replacing Median Value for Embarked"
   ]
  },
  {
   "cell_type": "code",
   "execution_count": 14,
   "id": "cc658685",
   "metadata": {},
   "outputs": [
    {
     "data": {
      "text/html": [
       "<div>\n",
       "<style scoped>\n",
       "    .dataframe tbody tr th:only-of-type {\n",
       "        vertical-align: middle;\n",
       "    }\n",
       "\n",
       "    .dataframe tbody tr th {\n",
       "        vertical-align: top;\n",
       "    }\n",
       "\n",
       "    .dataframe thead th {\n",
       "        text-align: right;\n",
       "    }\n",
       "</style>\n",
       "<table border=\"1\" class=\"dataframe\">\n",
       "  <thead>\n",
       "    <tr style=\"text-align: right;\">\n",
       "      <th></th>\n",
       "      <th>Survived</th>\n",
       "      <th>Pclass</th>\n",
       "      <th>Age</th>\n",
       "      <th>SibSp</th>\n",
       "      <th>Parch</th>\n",
       "      <th>Ticket</th>\n",
       "      <th>Fare</th>\n",
       "      <th>Cabin</th>\n",
       "      <th>Embarked</th>\n",
       "      <th>Is_male</th>\n",
       "    </tr>\n",
       "  </thead>\n",
       "  <tbody>\n",
       "    <tr>\n",
       "      <th>61</th>\n",
       "      <td>1</td>\n",
       "      <td>1</td>\n",
       "      <td>38.0</td>\n",
       "      <td>0</td>\n",
       "      <td>0</td>\n",
       "      <td>113572</td>\n",
       "      <td>80.0</td>\n",
       "      <td>B28</td>\n",
       "      <td>NaN</td>\n",
       "      <td>0</td>\n",
       "    </tr>\n",
       "    <tr>\n",
       "      <th>829</th>\n",
       "      <td>1</td>\n",
       "      <td>1</td>\n",
       "      <td>62.0</td>\n",
       "      <td>0</td>\n",
       "      <td>0</td>\n",
       "      <td>113572</td>\n",
       "      <td>80.0</td>\n",
       "      <td>B28</td>\n",
       "      <td>NaN</td>\n",
       "      <td>0</td>\n",
       "    </tr>\n",
       "  </tbody>\n",
       "</table>\n",
       "</div>"
      ],
      "text/plain": [
       "     Survived  Pclass   Age  SibSp  Parch  Ticket  Fare Cabin Embarked  \\\n",
       "61          1       1  38.0      0      0  113572  80.0   B28      NaN   \n",
       "829         1       1  62.0      0      0  113572  80.0   B28      NaN   \n",
       "\n",
       "     Is_male  \n",
       "61         0  \n",
       "829        0  "
      ]
     },
     "execution_count": 14,
     "metadata": {},
     "output_type": "execute_result"
    }
   ],
   "source": [
    "# Check the entries with NaN vales.\n",
    "train_data.loc[train_data['Embarked'].isna(),:]"
   ]
  },
  {
   "cell_type": "code",
   "execution_count": 15,
   "id": "d791fb39",
   "metadata": {
    "scrolled": true
   },
   "outputs": [
    {
     "data": {
      "text/plain": [
       "0      3\n",
       "1      1\n",
       "2      3\n",
       "3      3\n",
       "4      3\n",
       "      ..\n",
       "886    3\n",
       "887    3\n",
       "888    3\n",
       "889    1\n",
       "890    2\n",
       "Name: Embarked_code, Length: 891, dtype: int32"
      ]
     },
     "execution_count": 15,
     "metadata": {},
     "output_type": "execute_result"
    }
   ],
   "source": [
    "# Fill the NaN and map Embarked to numerical codes\n",
    "train_data.loc[train_data['Embarked'].isna(), 'Embarked'] = 'S'  # (Encyclopedia titanica)\n",
    "train_data['Embarked_code'] = train_data['Embarked'].map( {'C': 1, 'Q': 2, 'S': 3} ).astype(int)\n",
    "\n",
    "train_data['Embarked_code']"
   ]
  },
  {
   "cell_type": "code",
   "execution_count": 16,
   "id": "7709e318",
   "metadata": {
    "scrolled": true
   },
   "outputs": [
    {
     "data": {
      "text/plain": [
       "0      2\n",
       "1      3\n",
       "2      2\n",
       "3      3\n",
       "4      3\n",
       "      ..\n",
       "413    3\n",
       "414    1\n",
       "415    3\n",
       "416    3\n",
       "417    1\n",
       "Name: Embarked_code, Length: 418, dtype: int32"
      ]
     },
     "execution_count": 16,
     "metadata": {},
     "output_type": "execute_result"
    }
   ],
   "source": [
    "# Fill the NaN and map Embarked to numerical codes\n",
    "test_data.loc[train_data['Embarked'].isna(), 'Embarked'] = 'S'  # (Encyclopedia titanica)\n",
    "test_data['Embarked_code'] = test_data['Embarked'].map( {'C': 1, 'Q': 2, 'S': 3} ).astype(int)\n",
    "\n",
    "test_data['Embarked_code']"
   ]
  },
  {
   "cell_type": "code",
   "execution_count": 17,
   "id": "66544a19",
   "metadata": {},
   "outputs": [],
   "source": [
    "train_data = train_data.drop('Embarked', axis=1)\n",
    "test_data = test_data.drop('Embarked', axis=1)"
   ]
  },
  {
   "cell_type": "markdown",
   "id": "80a0f506",
   "metadata": {},
   "source": [
    "### Replacing Median Value for Age"
   ]
  },
  {
   "cell_type": "code",
   "execution_count": 18,
   "id": "3da3898c",
   "metadata": {},
   "outputs": [
    {
     "name": "stdout",
     "output_type": "stream",
     "text": [
      "Number of missing values in 'Age' column after imputation: 0\n"
     ]
    }
   ],
   "source": [
    "# Calculate the median age\n",
    "median_age = train_data['Age'].median()\n",
    "\n",
    "# Impute missing values with the median age\n",
    "train_data['Age'].fillna(median_age, inplace=True)\n",
    "\n",
    "# Verify if there are no missing values left\n",
    "print(\"Number of missing values in 'Age' column after imputation:\", train_data['Age'].isnull().sum())"
   ]
  },
  {
   "cell_type": "code",
   "execution_count": 19,
   "id": "f569f84b",
   "metadata": {},
   "outputs": [
    {
     "name": "stdout",
     "output_type": "stream",
     "text": [
      "Number of missing values in 'Age' column after imputation: 0\n"
     ]
    }
   ],
   "source": [
    "# Calculate the median age\n",
    "median_age = test_data['Age'].median()\n",
    "\n",
    "# Impute missing values with the median age\n",
    "test_data['Age'].fillna(median_age, inplace=True)\n",
    "\n",
    "# Verify if there are no missing values left\n",
    "print(\"Number of missing values in 'Age' column after imputation:\", test_data['Age'].isnull().sum())"
   ]
  },
  {
   "cell_type": "code",
   "execution_count": 20,
   "id": "86ac56b3",
   "metadata": {
    "scrolled": false
   },
   "outputs": [
    {
     "data": {
      "image/png": "[encoded data removed]",
      "text/plain": [
       "<Figure size 1296x864 with 6 Axes>"
      ]
     },
     "metadata": {
      "needs_background": "light"
     },
     "output_type": "display_data"
    }
   ],
   "source": [
    "import matplotlib.pyplot as plt\n",
    "import seaborn as sns\n",
    "from scipy import stats\n",
    "\n",
    "def plot_distribution(data, columns, suptitle=\"\", suptitle_y=1):\n",
    "    num_cols = len(columns)\n",
    "    fig, axs = plt.subplots(num_cols, 3, figsize=(18, 6*num_cols))\n",
    "    plt.suptitle(suptitle, fontsize=20, y=suptitle_y)  # Add super title\n",
    "    \n",
    "    for i, col in enumerate(columns):\n",
    "        # QQ plot\n",
    "        stats.probplot(data[col], dist=\"norm\", plot=axs[i, 0])\n",
    "        axs[i, 0].set_title(f'QQ Plot for {col}')\n",
    "        \n",
    "        # Histogram\n",
    "        sns.histplot(data[col], kde=True, ax=axs[i, 1])\n",
    "        axs[i, 1].set_title(f'Histogram for {col}')\n",
    "        \n",
    "        # Boxplot\n",
    "        sns.boxplot(x=data[col], ax=axs[i, 2])\n",
    "        axs[i, 2].set_title(f'Boxplot for {col}')\n",
    "        \n",
    "    plt.tight_layout()\n",
    "    plt.show()\n",
    "\n",
    "# Usage example with custom suptitle\n",
    "plot_distribution(train_data, ['Age', 'Fare'], suptitle=\"Distribution Plots\")\n"
   ]
  },
  {
   "cell_type": "markdown",
   "id": "754fb703",
   "metadata": {},
   "source": [
    "### Replacing Median Value for Fare"
   ]
  },
  {
   "cell_type": "code",
   "execution_count": 21,
   "id": "004abdb2",
   "metadata": {},
   "outputs": [
    {
     "name": "stdout",
     "output_type": "stream",
     "text": [
      "Number of missing values in 'Age' column after imputation: 0\n"
     ]
    }
   ],
   "source": [
    "# Calculate the median age\n",
    "median_age = train_data['Fare'].median()\n",
    "\n",
    "# Impute missing values with the median age\n",
    "train_data['Fare'].fillna(median_age, inplace=True)\n",
    "\n",
    "# Verify if there are no missing values left\n",
    "print(\"Number of missing values in 'Age' column after imputation:\", train_data['Fare'].isnull().sum())"
   ]
  },
  {
   "cell_type": "code",
   "execution_count": 22,
   "id": "c9344f13",
   "metadata": {},
   "outputs": [
    {
     "name": "stdout",
     "output_type": "stream",
     "text": [
      "Number of missing values in 'Age' column after imputation: 0\n"
     ]
    }
   ],
   "source": [
    "# Calculate the median age\n",
    "median_age = test_data['Fare'].median()\n",
    "\n",
    "# Impute missing values with the median age\n",
    "test_data['Fare'].fillna(median_age, inplace=True)\n",
    "\n",
    "# Verify if there are no missing values left\n",
    "print(\"Number of missing values in 'Age' column after imputation:\", test_data['Fare'].isnull().sum())"
   ]
  },
  {
   "cell_type": "code",
   "execution_count": null,
   "id": "76de2bca",
   "metadata": {},
   "outputs": [],
   "source": []
  },
  {
   "cell_type": "markdown",
   "id": "dba83069",
   "metadata": {},
   "source": [
    "### Replacing Outliers using Winsorisation"
   ]
  },
  {
   "cell_type": "code",
   "execution_count": 23,
   "id": "cffdba46",
   "metadata": {},
   "outputs": [],
   "source": [
    "def replace_outliers_iqr(data, columns):\n",
    "    for col in columns:\n",
    "        Q1 = data[col].quantile(0.25)\n",
    "        Q3 = data[col].quantile(0.75)\n",
    "        IQR = Q3 - Q1\n",
    "        \n",
    "        lower_bound = Q1 - 1.5 * IQR\n",
    "        upper_bound = Q3 + 1.5 * IQR\n",
    "        \n",
    "        data[col] = data[col].apply(lambda x: x if lower_bound <= x <= upper_bound else 1.5 * IQR)\n",
    "    return data\n",
    "\n",
    "# List of columns to replace outliers\n",
    "columns_to_replace_outliers = ['Age', 'Fare']  # Add more columns as needed\n",
    "\n",
    "# Replace outliers with 1.5 times IQR\n",
    "train_data_cleaned = replace_outliers_iqr(train_data.copy(), columns_to_replace_outliers)\n"
   ]
  },
  {
   "cell_type": "code",
   "execution_count": 24,
   "id": "a9a4fa1d",
   "metadata": {
    "scrolled": false
   },
   "outputs": [
    {
     "data": {
      "image/png": "[encoded data removed]",
      "text/plain": [
       "<Figure size 1296x864 with 6 Axes>"
      ]
     },
     "metadata": {
      "needs_background": "light"
     },
     "output_type": "display_data"
    }
   ],
   "source": [
    "# Plot distribution before and after replacing outliers\n",
    "plot_distribution(train_data, columns_to_replace_outliers, suptitle='Before Winsorisation')"
   ]
  },
  {
   "cell_type": "code",
   "execution_count": 25,
   "id": "8f25185b",
   "metadata": {},
   "outputs": [
    {
     "data": {
      "image/png": "[encoded data removed]",
      "text/plain": [
       "<Figure size 1296x864 with 6 Axes>"
      ]
     },
     "metadata": {
      "needs_background": "light"
     },
     "output_type": "display_data"
    }
   ],
   "source": [
    "plot_distribution(train_data_cleaned, columns_to_replace_outliers, suptitle='After Winsorisation')"
   ]
  },
  {
   "cell_type": "code",
   "execution_count": 26,
   "id": "a7f32aa9",
   "metadata": {},
   "outputs": [
    {
     "data": {
      "text/html": [
       "<div>\n",
       "<style scoped>\n",
       "    .dataframe tbody tr th:only-of-type {\n",
       "        vertical-align: middle;\n",
       "    }\n",
       "\n",
       "    .dataframe tbody tr th {\n",
       "        vertical-align: top;\n",
       "    }\n",
       "\n",
       "    .dataframe thead th {\n",
       "        text-align: right;\n",
       "    }\n",
       "</style>\n",
       "<table border=\"1\" class=\"dataframe\">\n",
       "  <thead>\n",
       "    <tr style=\"text-align: right;\">\n",
       "      <th></th>\n",
       "      <th>Survived</th>\n",
       "      <th>Pclass</th>\n",
       "      <th>Age</th>\n",
       "      <th>SibSp</th>\n",
       "      <th>Parch</th>\n",
       "      <th>Ticket</th>\n",
       "      <th>Fare</th>\n",
       "      <th>Cabin</th>\n",
       "      <th>Is_male</th>\n",
       "      <th>Embarked_code</th>\n",
       "    </tr>\n",
       "  </thead>\n",
       "  <tbody>\n",
       "    <tr>\n",
       "      <th>0</th>\n",
       "      <td>0</td>\n",
       "      <td>3</td>\n",
       "      <td>22.0</td>\n",
       "      <td>1</td>\n",
       "      <td>0</td>\n",
       "      <td>A/5 21171</td>\n",
       "      <td>7.2500</td>\n",
       "      <td>NaN</td>\n",
       "      <td>1</td>\n",
       "      <td>3</td>\n",
       "    </tr>\n",
       "    <tr>\n",
       "      <th>1</th>\n",
       "      <td>1</td>\n",
       "      <td>1</td>\n",
       "      <td>38.0</td>\n",
       "      <td>1</td>\n",
       "      <td>0</td>\n",
       "      <td>PC 17599</td>\n",
       "      <td>71.2833</td>\n",
       "      <td>C85</td>\n",
       "      <td>0</td>\n",
       "      <td>1</td>\n",
       "    </tr>\n",
       "    <tr>\n",
       "      <th>2</th>\n",
       "      <td>1</td>\n",
       "      <td>3</td>\n",
       "      <td>26.0</td>\n",
       "      <td>0</td>\n",
       "      <td>0</td>\n",
       "      <td>STON/O2. 3101282</td>\n",
       "      <td>7.9250</td>\n",
       "      <td>NaN</td>\n",
       "      <td>0</td>\n",
       "      <td>3</td>\n",
       "    </tr>\n",
       "    <tr>\n",
       "      <th>3</th>\n",
       "      <td>1</td>\n",
       "      <td>1</td>\n",
       "      <td>35.0</td>\n",
       "      <td>1</td>\n",
       "      <td>0</td>\n",
       "      <td>113803</td>\n",
       "      <td>53.1000</td>\n",
       "      <td>C123</td>\n",
       "      <td>0</td>\n",
       "      <td>3</td>\n",
       "    </tr>\n",
       "    <tr>\n",
       "      <th>4</th>\n",
       "      <td>0</td>\n",
       "      <td>3</td>\n",
       "      <td>35.0</td>\n",
       "      <td>0</td>\n",
       "      <td>0</td>\n",
       "      <td>373450</td>\n",
       "      <td>8.0500</td>\n",
       "      <td>NaN</td>\n",
       "      <td>1</td>\n",
       "      <td>3</td>\n",
       "    </tr>\n",
       "    <tr>\n",
       "      <th>...</th>\n",
       "      <td>...</td>\n",
       "      <td>...</td>\n",
       "      <td>...</td>\n",
       "      <td>...</td>\n",
       "      <td>...</td>\n",
       "      <td>...</td>\n",
       "      <td>...</td>\n",
       "      <td>...</td>\n",
       "      <td>...</td>\n",
       "      <td>...</td>\n",
       "    </tr>\n",
       "    <tr>\n",
       "      <th>886</th>\n",
       "      <td>0</td>\n",
       "      <td>2</td>\n",
       "      <td>27.0</td>\n",
       "      <td>0</td>\n",
       "      <td>0</td>\n",
       "      <td>211536</td>\n",
       "      <td>13.0000</td>\n",
       "      <td>NaN</td>\n",
       "      <td>1</td>\n",
       "      <td>3</td>\n",
       "    </tr>\n",
       "    <tr>\n",
       "      <th>887</th>\n",
       "      <td>1</td>\n",
       "      <td>1</td>\n",
       "      <td>19.0</td>\n",
       "      <td>0</td>\n",
       "      <td>0</td>\n",
       "      <td>112053</td>\n",
       "      <td>30.0000</td>\n",
       "      <td>B42</td>\n",
       "      <td>0</td>\n",
       "      <td>3</td>\n",
       "    </tr>\n",
       "    <tr>\n",
       "      <th>888</th>\n",
       "      <td>0</td>\n",
       "      <td>3</td>\n",
       "      <td>28.0</td>\n",
       "      <td>1</td>\n",
       "      <td>2</td>\n",
       "      <td>W./C. 6607</td>\n",
       "      <td>23.4500</td>\n",
       "      <td>NaN</td>\n",
       "      <td>0</td>\n",
       "      <td>3</td>\n",
       "    </tr>\n",
       "    <tr>\n",
       "      <th>889</th>\n",
       "      <td>1</td>\n",
       "      <td>1</td>\n",
       "      <td>26.0</td>\n",
       "      <td>0</td>\n",
       "      <td>0</td>\n",
       "      <td>111369</td>\n",
       "      <td>30.0000</td>\n",
       "      <td>C148</td>\n",
       "      <td>1</td>\n",
       "      <td>1</td>\n",
       "    </tr>\n",
       "    <tr>\n",
       "      <th>890</th>\n",
       "      <td>0</td>\n",
       "      <td>3</td>\n",
       "      <td>32.0</td>\n",
       "      <td>0</td>\n",
       "      <td>0</td>\n",
       "      <td>370376</td>\n",
       "      <td>7.7500</td>\n",
       "      <td>NaN</td>\n",
       "      <td>1</td>\n",
       "      <td>2</td>\n",
       "    </tr>\n",
       "  </tbody>\n",
       "</table>\n",
       "<p>891 rows × 10 columns</p>\n",
       "</div>"
      ],
      "text/plain": [
       "     Survived  Pclass   Age  SibSp  Parch            Ticket     Fare Cabin  \\\n",
       "0           0       3  22.0      1      0         A/5 21171   7.2500   NaN   \n",
       "1           1       1  38.0      1      0          PC 17599  71.2833   C85   \n",
       "2           1       3  26.0      0      0  STON/O2. 3101282   7.9250   NaN   \n",
       "3           1       1  35.0      1      0            113803  53.1000  C123   \n",
       "4           0       3  35.0      0      0            373450   8.0500   NaN   \n",
       "..        ...     ...   ...    ...    ...               ...      ...   ...   \n",
       "886         0       2  27.0      0      0            211536  13.0000   NaN   \n",
       "887         1       1  19.0      0      0            112053  30.0000   B42   \n",
       "888         0       3  28.0      1      2        W./C. 6607  23.4500   NaN   \n",
       "889         1       1  26.0      0      0            111369  30.0000  C148   \n",
       "890         0       3  32.0      0      0            370376   7.7500   NaN   \n",
       "\n",
       "     Is_male  Embarked_code  \n",
       "0          1              3  \n",
       "1          0              1  \n",
       "2          0              3  \n",
       "3          0              3  \n",
       "4          1              3  \n",
       "..       ...            ...  \n",
       "886        1              3  \n",
       "887        0              3  \n",
       "888        0              3  \n",
       "889        1              1  \n",
       "890        1              2  \n",
       "\n",
       "[891 rows x 10 columns]"
      ]
     },
     "execution_count": 26,
     "metadata": {},
     "output_type": "execute_result"
    }
   ],
   "source": [
    "train_data"
   ]
  },
  {
   "cell_type": "code",
   "execution_count": 27,
   "id": "816a232f",
   "metadata": {
    "scrolled": true
   },
   "outputs": [
    {
     "data": {
      "text/html": [
       "<div>\n",
       "<style scoped>\n",
       "    .dataframe tbody tr th:only-of-type {\n",
       "        vertical-align: middle;\n",
       "    }\n",
       "\n",
       "    .dataframe tbody tr th {\n",
       "        vertical-align: top;\n",
       "    }\n",
       "\n",
       "    .dataframe thead th {\n",
       "        text-align: right;\n",
       "    }\n",
       "</style>\n",
       "<table border=\"1\" class=\"dataframe\">\n",
       "  <thead>\n",
       "    <tr style=\"text-align: right;\">\n",
       "      <th></th>\n",
       "      <th>Pclass</th>\n",
       "      <th>Age</th>\n",
       "      <th>SibSp</th>\n",
       "      <th>Parch</th>\n",
       "      <th>Ticket</th>\n",
       "      <th>Fare</th>\n",
       "      <th>Cabin</th>\n",
       "      <th>Survived</th>\n",
       "      <th>Is_male</th>\n",
       "      <th>Embarked_code</th>\n",
       "    </tr>\n",
       "  </thead>\n",
       "  <tbody>\n",
       "    <tr>\n",
       "      <th>0</th>\n",
       "      <td>3</td>\n",
       "      <td>34.5</td>\n",
       "      <td>0</td>\n",
       "      <td>0</td>\n",
       "      <td>330911</td>\n",
       "      <td>7.8292</td>\n",
       "      <td>NaN</td>\n",
       "      <td>0</td>\n",
       "      <td>1</td>\n",
       "      <td>2</td>\n",
       "    </tr>\n",
       "    <tr>\n",
       "      <th>1</th>\n",
       "      <td>3</td>\n",
       "      <td>47.0</td>\n",
       "      <td>1</td>\n",
       "      <td>0</td>\n",
       "      <td>363272</td>\n",
       "      <td>7.0000</td>\n",
       "      <td>NaN</td>\n",
       "      <td>1</td>\n",
       "      <td>0</td>\n",
       "      <td>3</td>\n",
       "    </tr>\n",
       "    <tr>\n",
       "      <th>2</th>\n",
       "      <td>2</td>\n",
       "      <td>62.0</td>\n",
       "      <td>0</td>\n",
       "      <td>0</td>\n",
       "      <td>240276</td>\n",
       "      <td>9.6875</td>\n",
       "      <td>NaN</td>\n",
       "      <td>0</td>\n",
       "      <td>1</td>\n",
       "      <td>2</td>\n",
       "    </tr>\n",
       "    <tr>\n",
       "      <th>3</th>\n",
       "      <td>3</td>\n",
       "      <td>27.0</td>\n",
       "      <td>0</td>\n",
       "      <td>0</td>\n",
       "      <td>315154</td>\n",
       "      <td>8.6625</td>\n",
       "      <td>NaN</td>\n",
       "      <td>0</td>\n",
       "      <td>1</td>\n",
       "      <td>3</td>\n",
       "    </tr>\n",
       "    <tr>\n",
       "      <th>4</th>\n",
       "      <td>3</td>\n",
       "      <td>22.0</td>\n",
       "      <td>1</td>\n",
       "      <td>1</td>\n",
       "      <td>3101298</td>\n",
       "      <td>12.2875</td>\n",
       "      <td>NaN</td>\n",
       "      <td>1</td>\n",
       "      <td>0</td>\n",
       "      <td>3</td>\n",
       "    </tr>\n",
       "    <tr>\n",
       "      <th>...</th>\n",
       "      <td>...</td>\n",
       "      <td>...</td>\n",
       "      <td>...</td>\n",
       "      <td>...</td>\n",
       "      <td>...</td>\n",
       "      <td>...</td>\n",
       "      <td>...</td>\n",
       "      <td>...</td>\n",
       "      <td>...</td>\n",
       "      <td>...</td>\n",
       "    </tr>\n",
       "    <tr>\n",
       "      <th>413</th>\n",
       "      <td>3</td>\n",
       "      <td>27.0</td>\n",
       "      <td>0</td>\n",
       "      <td>0</td>\n",
       "      <td>A.5. 3236</td>\n",
       "      <td>8.0500</td>\n",
       "      <td>NaN</td>\n",
       "      <td>0</td>\n",
       "      <td>1</td>\n",
       "      <td>3</td>\n",
       "    </tr>\n",
       "    <tr>\n",
       "      <th>414</th>\n",
       "      <td>1</td>\n",
       "      <td>39.0</td>\n",
       "      <td>0</td>\n",
       "      <td>0</td>\n",
       "      <td>PC 17758</td>\n",
       "      <td>108.9000</td>\n",
       "      <td>C105</td>\n",
       "      <td>1</td>\n",
       "      <td>0</td>\n",
       "      <td>1</td>\n",
       "    </tr>\n",
       "    <tr>\n",
       "      <th>415</th>\n",
       "      <td>3</td>\n",
       "      <td>38.5</td>\n",
       "      <td>0</td>\n",
       "      <td>0</td>\n",
       "      <td>SOTON/O.Q. 3101262</td>\n",
       "      <td>7.2500</td>\n",
       "      <td>NaN</td>\n",
       "      <td>0</td>\n",
       "      <td>1</td>\n",
       "      <td>3</td>\n",
       "    </tr>\n",
       "    <tr>\n",
       "      <th>416</th>\n",
       "      <td>3</td>\n",
       "      <td>27.0</td>\n",
       "      <td>0</td>\n",
       "      <td>0</td>\n",
       "      <td>359309</td>\n",
       "      <td>8.0500</td>\n",
       "      <td>NaN</td>\n",
       "      <td>0</td>\n",
       "      <td>1</td>\n",
       "      <td>3</td>\n",
       "    </tr>\n",
       "    <tr>\n",
       "      <th>417</th>\n",
       "      <td>3</td>\n",
       "      <td>27.0</td>\n",
       "      <td>1</td>\n",
       "      <td>1</td>\n",
       "      <td>2668</td>\n",
       "      <td>22.3583</td>\n",
       "      <td>NaN</td>\n",
       "      <td>0</td>\n",
       "      <td>1</td>\n",
       "      <td>1</td>\n",
       "    </tr>\n",
       "  </tbody>\n",
       "</table>\n",
       "<p>418 rows × 10 columns</p>\n",
       "</div>"
      ],
      "text/plain": [
       "     Pclass   Age  SibSp  Parch              Ticket      Fare Cabin  Survived  \\\n",
       "0         3  34.5      0      0              330911    7.8292   NaN         0   \n",
       "1         3  47.0      1      0              363272    7.0000   NaN         1   \n",
       "2         2  62.0      0      0              240276    9.6875   NaN         0   \n",
       "3         3  27.0      0      0              315154    8.6625   NaN         0   \n",
       "4         3  22.0      1      1             3101298   12.2875   NaN         1   \n",
       "..      ...   ...    ...    ...                 ...       ...   ...       ...   \n",
       "413       3  27.0      0      0           A.5. 3236    8.0500   NaN         0   \n",
       "414       1  39.0      0      0            PC 17758  108.9000  C105         1   \n",
       "415       3  38.5      0      0  SOTON/O.Q. 3101262    7.2500   NaN         0   \n",
       "416       3  27.0      0      0              359309    8.0500   NaN         0   \n",
       "417       3  27.0      1      1                2668   22.3583   NaN         0   \n",
       "\n",
       "     Is_male  Embarked_code  \n",
       "0          1              2  \n",
       "1          0              3  \n",
       "2          1              2  \n",
       "3          1              3  \n",
       "4          0              3  \n",
       "..       ...            ...  \n",
       "413        1              3  \n",
       "414        0              1  \n",
       "415        1              3  \n",
       "416        1              3  \n",
       "417        1              1  \n",
       "\n",
       "[418 rows x 10 columns]"
      ]
     },
     "execution_count": 27,
     "metadata": {},
     "output_type": "execute_result"
    }
   ],
   "source": [
    "test_data"
   ]
  },
  {
   "cell_type": "markdown",
   "id": "d732c1a9",
   "metadata": {},
   "source": [
    "Hence the embarked code is mapped into numbers"
   ]
  },
  {
   "cell_type": "markdown",
   "id": "71f56564",
   "metadata": {},
   "source": [
    "### Temporarily Dropping Additional Variables"
   ]
  },
  {
   "cell_type": "code",
   "execution_count": 28,
   "id": "9d8b5280",
   "metadata": {},
   "outputs": [],
   "source": [
    "train_data = train_data.drop('Ticket', axis=1)\n",
    "test_data = test_data.drop('Ticket', axis=1)"
   ]
  },
  {
   "cell_type": "code",
   "execution_count": 29,
   "id": "76b8cf54",
   "metadata": {},
   "outputs": [
    {
     "data": {
      "text/plain": [
       "Survived           0\n",
       "Pclass             0\n",
       "Age                0\n",
       "SibSp              0\n",
       "Parch              0\n",
       "Fare               0\n",
       "Cabin            687\n",
       "Is_male            0\n",
       "Embarked_code      0\n",
       "dtype: int64"
      ]
     },
     "execution_count": 29,
     "metadata": {},
     "output_type": "execute_result"
    }
   ],
   "source": [
    "train_data.isnull().sum()"
   ]
  },
  {
   "cell_type": "markdown",
   "id": "bdeb0b81",
   "metadata": {},
   "source": [
    "Since cabin variable has the most missing values, we drop that variable temporarily"
   ]
  },
  {
   "cell_type": "code",
   "execution_count": 30,
   "id": "9fb5d886",
   "metadata": {},
   "outputs": [],
   "source": [
    "train_data = train_data.drop('Cabin', axis=1)\n",
    "test_data = test_data.drop('Cabin', axis=1)"
   ]
  },
  {
   "cell_type": "markdown",
   "id": "8c747a54",
   "metadata": {},
   "source": [
    "### Applying Data Transformation"
   ]
  },
  {
   "cell_type": "code",
   "execution_count": 31,
   "id": "5e0d56d1",
   "metadata": {},
   "outputs": [],
   "source": [
    "from sklearn.preprocessing import PowerTransformer, StandardScaler\n",
    "\n",
    "# List of numerical variables (excluding 'Survived' assuming it's the target variable)\n",
    "numerical_vars = ['Age', 'Fare']\n",
    "\n",
    "# Initialize the PowerTransformer\n",
    "pt = PowerTransformer(method='yeo-johnson')"
   ]
  },
  {
   "cell_type": "code",
   "execution_count": 32,
   "id": "313e0a6f",
   "metadata": {},
   "outputs": [],
   "source": [
    "# Fit the transformer on the training data and transform it\n",
    "train_data[numerical_vars] = pt.fit_transform(train_data[['Age', 'Fare']])\n",
    "# Fit the transformer on the training data and transform it\n",
    "test_data[numerical_vars] = pt.fit_transform(test_data[['Age', 'Fare']])"
   ]
  },
  {
   "cell_type": "code",
   "execution_count": 33,
   "id": "ea7e0090",
   "metadata": {
    "scrolled": false
   },
   "outputs": [
    {
     "data": {
      "image/png": "[encoded data removed]",
      "text/plain": [
       "<Figure size 432x432 with 1 Axes>"
      ]
     },
     "metadata": {
      "needs_background": "light"
     },
     "output_type": "display_data"
    },
    {
     "data": {
      "image/png": "[encoded data removed]",
      "text/plain": [
       "<Figure size 432x432 with 1 Axes>"
      ]
     },
     "metadata": {
      "needs_background": "light"
     },
     "output_type": "display_data"
    }
   ],
   "source": [
    "import numpy as np\n",
    "import matplotlib.pyplot as plt\n",
    "from scipy import stats\n",
    "\n",
    "# Assuming your transformed dataset is stored in train_data after applying Yeo-Johnson transformation\n",
    "\n",
    "# List of numerical variables (excluding 'Survived' assuming it's the target variable)\n",
    "numerical_vars = ['Age', 'Fare']\n",
    "\n",
    "# Create QQ plots for each transformed numerical variable\n",
    "for var in numerical_vars:\n",
    "    # Generate QQ plot\n",
    "    fig, ax = plt.subplots(figsize=(6, 6))\n",
    "    stats.probplot(train_data[var], dist=\"norm\", plot=ax)\n",
    "    ax.set_title(f'QQ Plot for {var}')\n",
    "    ax.get_lines()[1].set_color('orange')  # Set color for the line of best fit (optional)\n",
    "    plt.show()"
   ]
  },
  {
   "cell_type": "markdown",
   "id": "00bd260d",
   "metadata": {},
   "source": [
    "### Scaling the Data"
   ]
  },
  {
   "cell_type": "code",
   "execution_count": 34,
   "id": "7484ed33",
   "metadata": {},
   "outputs": [
    {
     "data": {
      "text/html": [
       "<style>#sk-container-id-1 {color: black;background-color: white;}#sk-container-id-1 pre{padding: 0;}#sk-container-id-1 div.sk-toggleable {background-color: white;}#sk-container-id-1 label.sk-toggleable__label {cursor: pointer;display: block;width: 100%;margin-bottom: 0;padding: 0.3em;box-sizing: border-box;text-align: center;}#sk-container-id-1 label.sk-toggleable__label-arrow:before {content: \"▸\";float: left;margin-right: 0.25em;color: #696969;}#sk-container-id-1 label.sk-toggleable__label-arrow:hover:before {color: black;}#sk-container-id-1 div.sk-estimator:hover label.sk-toggleable__label-arrow:before {color: black;}#sk-container-id-1 div.sk-toggleable__content {max-height: 0;max-width: 0;overflow: hidden;text-align: left;background-color: #f0f8ff;}#sk-container-id-1 div.sk-toggleable__content pre {margin: 0.2em;color: black;border-radius: 0.25em;background-color: #f0f8ff;}#sk-container-id-1 input.sk-toggleable__control:checked~div.sk-toggleable__content {max-height: 200px;max-width: 100%;overflow: auto;}#sk-container-id-1 input.sk-toggleable__control:checked~label.sk-toggleable__label-arrow:before {content: \"▾\";}#sk-container-id-1 div.sk-estimator input.sk-toggleable__control:checked~label.sk-toggleable__label {background-color: #d4ebff;}#sk-container-id-1 div.sk-label input.sk-toggleable__control:checked~label.sk-toggleable__label {background-color: #d4ebff;}#sk-container-id-1 input.sk-hidden--visually {border: 0;clip: rect(1px 1px 1px 1px);clip: rect(1px, 1px, 1px, 1px);height: 1px;margin: -1px;overflow: hidden;padding: 0;position: absolute;width: 1px;}#sk-container-id-1 div.sk-estimator {font-family: monospace;background-color: #f0f8ff;border: 1px dotted black;border-radius: 0.25em;box-sizing: border-box;margin-bottom: 0.5em;}#sk-container-id-1 div.sk-estimator:hover {background-color: #d4ebff;}#sk-container-id-1 div.sk-parallel-item::after {content: \"\";width: 100%;border-bottom: 1px solid gray;flex-grow: 1;}#sk-container-id-1 div.sk-label:hover label.sk-toggleable__label {background-color: #d4ebff;}#sk-container-id-1 div.sk-serial::before {content: \"\";position: absolute;border-left: 1px solid gray;box-sizing: border-box;top: 0;bottom: 0;left: 50%;z-index: 0;}#sk-container-id-1 div.sk-serial {display: flex;flex-direction: column;align-items: center;background-color: white;padding-right: 0.2em;padding-left: 0.2em;position: relative;}#sk-container-id-1 div.sk-item {position: relative;z-index: 1;}#sk-container-id-1 div.sk-parallel {display: flex;align-items: stretch;justify-content: center;background-color: white;position: relative;}#sk-container-id-1 div.sk-item::before, #sk-container-id-1 div.sk-parallel-item::before {content: \"\";position: absolute;border-left: 1px solid gray;box-sizing: border-box;top: 0;bottom: 0;left: 50%;z-index: -1;}#sk-container-id-1 div.sk-parallel-item {display: flex;flex-direction: column;z-index: 1;position: relative;background-color: white;}#sk-container-id-1 div.sk-parallel-item:first-child::after {align-self: flex-end;width: 50%;}#sk-container-id-1 div.sk-parallel-item:last-child::after {align-self: flex-start;width: 50%;}#sk-container-id-1 div.sk-parallel-item:only-child::after {width: 0;}#sk-container-id-1 div.sk-dashed-wrapped {border: 1px dashed gray;margin: 0 0.4em 0.5em 0.4em;box-sizing: border-box;padding-bottom: 0.4em;background-color: white;}#sk-container-id-1 div.sk-label label {font-family: monospace;font-weight: bold;display: inline-block;line-height: 1.2em;}#sk-container-id-1 div.sk-label-container {text-align: center;}#sk-container-id-1 div.sk-container {/* jupyter's `normalize.less` sets `[hidden] { display: none; }` but bootstrap.min.css set `[hidden] { display: none !important; }` so we also need the `!important` here to be able to override the default hidden behavior on the sphinx rendered scikit-learn.org. See: https://github.com/scikit-learn/scikit-learn/issues/21755 */display: inline-block !important;position: relative;}#sk-container-id-1 div.sk-text-repr-fallback {display: none;}</style><div id=\"sk-container-id-1\" class=\"sk-top-container\"><div class=\"sk-text-repr-fallback\"><pre>StandardScaler()</pre><b>In a Jupyter environment, please rerun this cell to show the HTML representation or trust the notebook. <br />On GitHub, the HTML representation is unable to render, please try loading this page with nbviewer.org.</b></div><div class=\"sk-container\" hidden><div class=\"sk-item\"><div class=\"sk-estimator sk-toggleable\"><input class=\"sk-toggleable__control sk-hidden--visually\" id=\"sk-estimator-id-1\" type=\"checkbox\" checked><label for=\"sk-estimator-id-1\" class=\"sk-toggleable__label sk-toggleable__label-arrow\">StandardScaler</label><div class=\"sk-toggleable__content\"><pre>StandardScaler()</pre></div></div></div></div></div>"
      ],
      "text/plain": [
       "StandardScaler()"
      ]
     },
     "execution_count": 34,
     "metadata": {},
     "output_type": "execute_result"
    }
   ],
   "source": [
    "# Initialize the StandardScaler\n",
    "scaler = StandardScaler()\n",
    "scaler"
   ]
  },
  {
   "cell_type": "code",
   "execution_count": 35,
   "id": "49f1c7e2",
   "metadata": {},
   "outputs": [],
   "source": [
    "train_data_scaled = train_data\n",
    "test_data_scaled = test_data"
   ]
  },
  {
   "cell_type": "code",
   "execution_count": 36,
   "id": "168c19fc",
   "metadata": {},
   "outputs": [
    {
     "data": {
      "text/plain": [
       "<AxesSubplot:>"
      ]
     },
     "execution_count": 36,
     "metadata": {},
     "output_type": "execute_result"
    },
    {
     "data": {
      "image/png": "[encoded data removed]",
      "text/plain": [
       "<Figure size 432x288 with 1 Axes>"
      ]
     },
     "metadata": {
      "needs_background": "light"
     },
     "output_type": "display_data"
    }
   ],
   "source": [
    "train_data_scaled['Age'].hist()"
   ]
  },
  {
   "cell_type": "code",
   "execution_count": 37,
   "id": "183c2b8e",
   "metadata": {},
   "outputs": [],
   "source": [
    "# Fit the scaler on the transformed training data and transform it\n",
    "train_data_scaled[numerical_vars] = scaler.fit_transform(train_data[numerical_vars])\n",
    "# Fit the scaler on the transformed training data and transform it\n",
    "test_data_scaled[numerical_vars] = scaler.fit_transform(test_data[numerical_vars])"
   ]
  },
  {
   "cell_type": "code",
   "execution_count": 38,
   "id": "0f395dc2",
   "metadata": {},
   "outputs": [
    {
     "data": {
      "image/png": "[encoded data removed]",
      "text/plain": [
       "<Figure size 864x864 with 4 Axes>"
      ]
     },
     "metadata": {
      "needs_background": "light"
     },
     "output_type": "display_data"
    }
   ],
   "source": [
    "def plot_before_after_scaling(train_data_before, train_data_after, numerical_vars):\n",
    "    num_cols = len(numerical_vars)\n",
    "    fig, axs = plt.subplots(num_cols, 2, figsize=(12, 6*num_cols))\n",
    "    \n",
    "    for i, col in enumerate(numerical_vars):\n",
    "        # Before scaling\n",
    "        sns.histplot(train_data_before[col], kde=True, ax=axs[i, 0], color='blue', label='Before Scaling')\n",
    "        axs[i, 0].set_title(f'Before Scaling: {col}')\n",
    "        axs[i, 0].legend()\n",
    "        \n",
    "        # After scaling\n",
    "        sns.histplot(train_data_after[col], kde=True, ax=axs[i, 1], color='orange', label='After Scaling')\n",
    "        axs[i, 1].set_title(f'After Scaling: {col}')\n",
    "        axs[i, 1].legend()\n",
    "        \n",
    "    plt.tight_layout()\n",
    "    plt.show()\n",
    "\n",
    "# Usage example\n",
    "plot_before_after_scaling(train_data, train_data_scaled, numerical_vars)"
   ]
  },
  {
   "cell_type": "markdown",
   "id": "e9bd1ceb",
   "metadata": {},
   "source": [
    "### Seeing Correlation of Target Variable against other Variables"
   ]
  },
  {
   "cell_type": "code",
   "execution_count": 39,
   "id": "967f2cc1",
   "metadata": {
    "scrolled": true
   },
   "outputs": [
    {
     "data": {
      "text/plain": [
       "-0.07431964428148158"
      ]
     },
     "execution_count": 39,
     "metadata": {},
     "output_type": "execute_result"
    }
   ],
   "source": [
    "train_data['Survived'].corr(train_data['Age'])\n",
    "#=> -0.07722109457217768\n",
    "#=> -7.72%"
   ]
  },
  {
   "cell_type": "markdown",
   "id": "e44c10b8",
   "metadata": {},
   "source": [
    "### Using Pearson Correlation Coefficient"
   ]
  },
  {
   "cell_type": "code",
   "execution_count": 40,
   "id": "cd5b8ffb",
   "metadata": {
    "scrolled": false
   },
   "outputs": [
    {
     "data": {
      "image/png": "[encoded data removed]",
      "text/plain": [
       "<Figure size 432x288 with 2 Axes>"
      ]
     },
     "metadata": {
      "needs_background": "light"
     },
     "output_type": "display_data"
    }
   ],
   "source": [
    "import seaborn as sn\n",
    "import matplotlib.pyplot as plt\n",
    "\n",
    "sn.heatmap(train_data.corr(), annot=True)\n",
    "plt.show()"
   ]
  },
  {
   "cell_type": "code",
   "execution_count": 41,
   "id": "9c1125fb",
   "metadata": {
    "scrolled": false
   },
   "outputs": [
    {
     "data": {
      "image/png": "[encoded data removed]",
      "text/plain": [
       "<Figure size 720x576 with 2 Axes>"
      ]
     },
     "metadata": {
      "needs_background": "light"
     },
     "output_type": "display_data"
    }
   ],
   "source": [
    "import seaborn as sns\n",
    "import matplotlib.pyplot as plt\n",
    "\n",
    "# Compute the correlation matrix\n",
    "corr_matrix = train_data.corr()\n",
    "\n",
    "# Get correlation of features with the target variable\n",
    "target_correlation = corr_matrix['Survived'].drop('Survived')  # Assuming the target variable is 'Survived'\n",
    "\n",
    "# Plot heatmap\n",
    "plt.figure(figsize=(10, 8))\n",
    "sns.heatmap(target_correlation.to_frame(), annot=True, cmap='coolwarm', fmt=\".2f\")\n",
    "plt.title('Correlation of Features with Target Variable')\n",
    "plt.show()\n"
   ]
  },
  {
   "cell_type": "markdown",
   "id": "6655eb22",
   "metadata": {},
   "source": [
    "### Using Cramér's V to Measure Association between 2 Nominal Variables"
   ]
  },
  {
   "cell_type": "code",
   "execution_count": 42,
   "id": "6ee6c322",
   "metadata": {
    "scrolled": true
   },
   "outputs": [
    {
     "name": "stdout",
     "output_type": "stream",
     "text": [
      "Cramér's V Score for Is_male: 0.5401999468101071\n"
     ]
    }
   ],
   "source": [
    "import numpy as np\n",
    "from scipy.stats import chi2_contingency\n",
    "\n",
    "def cramers_v(confusion_matrix):\n",
    "    chi2 = chi2_contingency(confusion_matrix)[0]\n",
    "    n = confusion_matrix.sum().sum()\n",
    "    phi2 = chi2 / n\n",
    "    r, k = confusion_matrix.shape\n",
    "    phi2corr = max(0, phi2 - ((k-1)*(r-1))/(n-1))\n",
    "    rcorr = r - ((r-1)**2)/(n-1)\n",
    "    kcorr = k - ((k-1)**2)/(n-1)\n",
    "    return np.sqrt(phi2corr / min((kcorr-1), (rcorr-1)))\n",
    "\n",
    "confusion_matrix = pd.crosstab(train_data['Is_male'], train_data['Survived'])\n",
    "cramers_v_score = cramers_v(confusion_matrix)\n",
    "\n",
    "print(\"Cramér's V Score for Is_male:\", cramers_v_score)\n"
   ]
  },
  {
   "cell_type": "markdown",
   "id": "d3a5b329",
   "metadata": {},
   "source": [
    "### Using $\\phi$ (Phi) Coefficient\n",
    "\n",
    "To compare between two binary variables, analysing its correlation strength in terms of $\\phi$"
   ]
  },
  {
   "cell_type": "markdown",
   "id": "0bfcb6ef",
   "metadata": {},
   "source": [
    "### Proofs\n",
    "The Phi coefficient is a measure of association between two binary variables. It ranges from -1 to 1, where:\n",
    "\n",
    "- 1 indicates a perfect positive association (both variables agree perfectly)\n",
    "- 0 indicates no association between the variables\n",
    "- -1 indicates a perfect negative association (variables disagree perfectly)\n",
    "\n",
    "$$\\phi = \\frac{(ad−bc)}{(a+b)(c+d)(a+c)(b+d)}$$\n",
    "\n",
    "where:\n",
    "\n",
    "\n",
    "a, b, c, and d are counts of observations falling into each of the four categories formed by the combinations of the two binary variables."
   ]
  },
  {
   "cell_type": "markdown",
   "id": "42102860",
   "metadata": {},
   "source": [
    "### How to Derive a, b, c, and d?\n",
    "\n",
    "- a: Count of observations where both Variable 1 and Variable 2 are 1.\n",
    "- b: Count of observations where Variable 1 is 1 and Variable 2 is 0.\n",
    "- c: Count of observations where Variable 1 is 0 and Variable 2 is 1.\n",
    "- d: Count of observations where both Variable 1 and Variable 2 are 0."
   ]
  },
  {
   "cell_type": "markdown",
   "id": "2506d02a",
   "metadata": {},
   "source": [
    "### Construct Contingency Table\n",
    "First, construct a 2x2 contingency table (also known as a frequency table) with counts for each combination of values of the two binary variables. The table looks like this:"
   ]
  },
  {
   "attachments": {
    "image.png": {
     "image/png": "[encoded data removed]"
    }
   },
   "cell_type": "markdown",
   "id": "4893015b",
   "metadata": {},
   "source": [
    "![image.png](attachment:image.png)\n",
    "\n",
    "Then, a, b, c, and d are used to calculate the $\\phi$ coefficient."
   ]
  },
  {
   "cell_type": "code",
   "execution_count": 43,
   "id": "a5cc01a8",
   "metadata": {
    "scrolled": true
   },
   "outputs": [
    {
     "name": "stdout",
     "output_type": "stream",
     "text": [
      "Requirement already satisfied: phik in c:\\users\\user\\anaconda3\\lib\\site-packages (0.12.4)\n",
      "Requirement already satisfied: matplotlib>=2.2.3 in c:\\users\\user\\anaconda3\\lib\\site-packages (from phik) (3.5.1)\n",
      "Requirement already satisfied: pandas>=0.25.1 in c:\\users\\user\\anaconda3\\lib\\site-packages (from phik) (1.4.2)\n",
      "Requirement already satisfied: numpy>=1.18.0 in c:\\users\\user\\appdata\\roaming\\python\\python39\\site-packages (from phik) (1.23.5)\n",
      "Requirement already satisfied: joblib>=0.14.1 in c:\\users\\user\\anaconda3\\lib\\site-packages (from phik) (1.3.2)\n",
      "Requirement already satisfied: scipy>=1.5.2 in c:\\users\\user\\appdata\\roaming\\python\\python39\\site-packages (from phik) (1.11.3)\n",
      "Requirement already satisfied: fonttools>=4.22.0 in c:\\users\\user\\anaconda3\\lib\\site-packages (from matplotlib>=2.2.3->phik) (4.25.0)\n",
      "Requirement already satisfied: kiwisolver>=1.0.1 in c:\\users\\user\\anaconda3\\lib\\site-packages (from matplotlib>=2.2.3->phik) (1.3.2)\n",
      "Requirement already satisfied: python-dateutil>=2.7 in c:\\users\\user\\anaconda3\\lib\\site-packages (from matplotlib>=2.2.3->phik) (2.8.2)\n",
      "Requirement already satisfied: pyparsing>=2.2.1 in c:\\users\\user\\anaconda3\\lib\\site-packages (from matplotlib>=2.2.3->phik) (3.0.4)\n",
      "Requirement already satisfied: pillow>=6.2.0 in c:\\users\\user\\anaconda3\\lib\\site-packages (from matplotlib>=2.2.3->phik) (10.2.0)\n",
      "Requirement already satisfied: cycler>=0.10 in c:\\users\\user\\anaconda3\\lib\\site-packages (from matplotlib>=2.2.3->phik) (0.11.0)\n",
      "Requirement already satisfied: packaging>=20.0 in c:\\users\\user\\anaconda3\\lib\\site-packages (from matplotlib>=2.2.3->phik) (21.3)\n",
      "Requirement already satisfied: pytz>=2020.1 in c:\\users\\user\\anaconda3\\lib\\site-packages (from pandas>=0.25.1->phik) (2021.3)\n",
      "Requirement already satisfied: six>=1.5 in c:\\users\\user\\anaconda3\\lib\\site-packages (from python-dateutil>=2.7->matplotlib>=2.2.3->phik) (1.16.0)\n"
     ]
    },
    {
     "name": "stderr",
     "output_type": "stream",
     "text": [
      "WARNING: Ignoring invalid distribution -rotobuf (c:\\users\\user\\appdata\\roaming\\python\\python39\\site-packages)\n",
      "WARNING: Ignoring invalid distribution -otobuf (c:\\users\\user\\anaconda3\\lib\\site-packages)\n",
      "WARNING: Ignoring invalid distribution -otobuf (c:\\users\\user\\anaconda3\\lib\\site-packages)\n",
      "WARNING: Ignoring invalid distribution -lotly (c:\\users\\user\\anaconda3\\lib\\site-packages)\n",
      "WARNING: Ignoring invalid distribution - (c:\\users\\user\\anaconda3\\lib\\site-packages)\n",
      "WARNING: Ignoring invalid distribution -rotobuf (c:\\users\\user\\appdata\\roaming\\python\\python39\\site-packages)\n",
      "WARNING: Ignoring invalid distribution -otobuf (c:\\users\\user\\anaconda3\\lib\\site-packages)\n",
      "WARNING: Ignoring invalid distribution -otobuf (c:\\users\\user\\anaconda3\\lib\\site-packages)\n",
      "WARNING: Ignoring invalid distribution -lotly (c:\\users\\user\\anaconda3\\lib\\site-packages)\n",
      "WARNING: Ignoring invalid distribution - (c:\\users\\user\\anaconda3\\lib\\site-packages)\n",
      "WARNING: Ignoring invalid distribution -rotobuf (c:\\users\\user\\appdata\\roaming\\python\\python39\\site-packages)\n",
      "WARNING: Ignoring invalid distribution -otobuf (c:\\users\\user\\anaconda3\\lib\\site-packages)\n",
      "WARNING: Ignoring invalid distribution -otobuf (c:\\users\\user\\anaconda3\\lib\\site-packages)\n",
      "WARNING: Ignoring invalid distribution -lotly (c:\\users\\user\\anaconda3\\lib\\site-packages)\n",
      "WARNING: Ignoring invalid distribution - (c:\\users\\user\\anaconda3\\lib\\site-packages)\n",
      "WARNING: Ignoring invalid distribution -rotobuf (c:\\users\\user\\appdata\\roaming\\python\\python39\\site-packages)\n",
      "WARNING: Ignoring invalid distribution -otobuf (c:\\users\\user\\anaconda3\\lib\\site-packages)\n",
      "WARNING: Ignoring invalid distribution -otobuf (c:\\users\\user\\anaconda3\\lib\\site-packages)\n",
      "WARNING: Ignoring invalid distribution -lotly (c:\\users\\user\\anaconda3\\lib\\site-packages)\n",
      "WARNING: Ignoring invalid distribution - (c:\\users\\user\\anaconda3\\lib\\site-packages)\n",
      "WARNING: Ignoring invalid distribution -rotobuf (c:\\users\\user\\appdata\\roaming\\python\\python39\\site-packages)\n",
      "WARNING: Ignoring invalid distribution -otobuf (c:\\users\\user\\anaconda3\\lib\\site-packages)\n",
      "WARNING: Ignoring invalid distribution -otobuf (c:\\users\\user\\anaconda3\\lib\\site-packages)\n",
      "WARNING: Ignoring invalid distribution -lotly (c:\\users\\user\\anaconda3\\lib\\site-packages)\n",
      "WARNING: Ignoring invalid distribution - (c:\\users\\user\\anaconda3\\lib\\site-packages)\n",
      "WARNING: Ignoring invalid distribution -rotobuf (c:\\users\\user\\appdata\\roaming\\python\\python39\\site-packages)\n",
      "WARNING: Ignoring invalid distribution -otobuf (c:\\users\\user\\anaconda3\\lib\\site-packages)\n",
      "WARNING: Ignoring invalid distribution -otobuf (c:\\users\\user\\anaconda3\\lib\\site-packages)\n",
      "WARNING: Ignoring invalid distribution -lotly (c:\\users\\user\\anaconda3\\lib\\site-packages)\n",
      "WARNING: Ignoring invalid distribution - (c:\\users\\user\\anaconda3\\lib\\site-packages)\n"
     ]
    }
   ],
   "source": [
    "!pip install phik"
   ]
  },
  {
   "cell_type": "code",
   "execution_count": 44,
   "id": "374b25cf",
   "metadata": {},
   "outputs": [
    {
     "name": "stdout",
     "output_type": "stream",
     "text": [
      "interval columns not set, guessing: ['Survived', 'Pclass', 'Age', 'SibSp', 'Parch', 'Fare', 'Is_male', 'Embarked_code']\n",
      "Phi Coefficient (φ) between 'Survived' and 'Sex': 0.7503215961090612\n"
     ]
    }
   ],
   "source": [
    "import phik\n",
    "\n",
    "# 'Survived' is the target variable and 'Sex' is another binary variable in your DataFrame\n",
    "phi_coefficient = train_data.phik_matrix()['Survived']['Is_male']\n",
    "\n",
    "print(\"Phi Coefficient (φ) between 'Survived' and 'Sex':\", phi_coefficient)"
   ]
  },
  {
   "cell_type": "code",
   "execution_count": 45,
   "id": "ac092ded",
   "metadata": {},
   "outputs": [
    {
     "name": "stdout",
     "output_type": "stream",
     "text": [
      "interval columns not set, guessing: ['Survived', 'Pclass', 'Age', 'SibSp', 'Parch', 'Fare', 'Is_male', 'Embarked_code']\n",
      "Phi Coefficient (φ) between 'Survived' and 'Is_male': 0.7503215961090612\n"
     ]
    }
   ],
   "source": [
    "import phik\n",
    "\n",
    "# Assuming 'Survived' is the target variable\n",
    "target_variable = 'Survived'\n",
    "\n",
    "# Get all binary variables (excluding the target variable)\n",
    "binary_variables = [col for col in train_data.columns if train_data[col].nunique() == 2 and col != target_variable]\n",
    "\n",
    "# Calculate Phi coefficients for each binary variable\n",
    "phi_coefficients = {}\n",
    "for binary_var in binary_variables:\n",
    "    phi_coefficient = train_data.phik_matrix()[target_variable][binary_var]\n",
    "    phi_coefficients[binary_var] = phi_coefficient\n",
    "\n",
    "# Display Phi coefficients for each binary variable\n",
    "for binary_var, phi_coefficient in phi_coefficients.items():\n",
    "    print(f\"Phi Coefficient (φ) between '{target_variable}' and '{binary_var}': {phi_coefficient}\")\n"
   ]
  },
  {
   "cell_type": "code",
   "execution_count": 46,
   "id": "08349717",
   "metadata": {
    "scrolled": true
   },
   "outputs": [
    {
     "data": {
      "text/plain": [
       "Survived         0\n",
       "Pclass           0\n",
       "Age              0\n",
       "SibSp            0\n",
       "Parch            0\n",
       "Fare             0\n",
       "Is_male          0\n",
       "Embarked_code    0\n",
       "dtype: int64"
      ]
     },
     "execution_count": 46,
     "metadata": {},
     "output_type": "execute_result"
    }
   ],
   "source": [
    "train_data.isnull().sum()"
   ]
  },
  {
   "cell_type": "code",
   "execution_count": 47,
   "id": "3469e99b",
   "metadata": {},
   "outputs": [
    {
     "data": {
      "text/plain": [
       "Pclass           0\n",
       "Age              0\n",
       "SibSp            0\n",
       "Parch            0\n",
       "Fare             0\n",
       "Survived         0\n",
       "Is_male          0\n",
       "Embarked_code    0\n",
       "dtype: int64"
      ]
     },
     "execution_count": 47,
     "metadata": {},
     "output_type": "execute_result"
    }
   ],
   "source": [
    "test_data.isnull().sum()"
   ]
  },
  {
   "cell_type": "code",
   "execution_count": 48,
   "id": "422b8003",
   "metadata": {
    "scrolled": true
   },
   "outputs": [
    {
     "name": "stdout",
     "output_type": "stream",
     "text": [
      "Phi Coefficient (φ) between 'Survived' and 'Survived': 1.0\n",
      "p-value: 0.0\n",
      "Pearson Correlation Coefficient between 'Pclass' and 'Survived': -0.33848103596101514\n",
      "p-value: 2.5370473879814938e-25\n",
      "Pearson Correlation Coefficient between 'Age' and 'Survived': -0.07431964428148162\n",
      "p-value: 0.026529779479276722\n",
      "Pearson Correlation Coefficient between 'SibSp' and 'Survived': -0.035322498885735625\n",
      "p-value: 0.29224392869829086\n",
      "Pearson Correlation Coefficient between 'Parch' and 'Survived': 0.08162940708348349\n",
      "p-value: 0.014799245374727947\n",
      "Pearson Correlation Coefficient between 'Fare' and 'Survived': 0.3269143942075409\n",
      "p-value: 1.2299060075834304e-23\n"
     ]
    }
   ],
   "source": [
    "from scipy.stats import pointbiserialr, pearsonr\n",
    "\n",
    "# Assuming 'Survived' is the binary target variable\n",
    "target_variable = 'Survived'\n",
    "\n",
    "# Get all numeric variables (excluding the target variable)\n",
    "numeric_variables = [col for col in train_data.columns if train_data[col].dtype == 'float64' or train_data[col].dtype == 'int64']\n",
    "\n",
    "# Calculate correlation for each numeric variable\n",
    "for numeric_var in numeric_variables:\n",
    "    if train_data[numeric_var].nunique() == 2:\n",
    "        # Calculate Phi coefficient for binary variables\n",
    "        phi_coefficient, p_value = pointbiserialr(train_data[numeric_var], train_data[target_variable])\n",
    "        print(f\"Phi Coefficient (φ) between '{numeric_var}' and '{target_variable}':\", phi_coefficient)\n",
    "        print(\"p-value:\", p_value)\n",
    "    else:\n",
    "        # Calculate Pearson correlation coefficient for continuous variables\n",
    "        pearson_corr, p_value = pearsonr(train_data[numeric_var], train_data[target_variable])\n",
    "        print(f\"Pearson Correlation Coefficient between '{numeric_var}' and '{target_variable}':\", pearson_corr)\n",
    "        print(\"p-value:\", p_value)\n"
   ]
  },
  {
   "cell_type": "markdown",
   "id": "189b20f3",
   "metadata": {},
   "source": []
  },
  {
   "cell_type": "code",
   "execution_count": 49,
   "id": "72dddc05",
   "metadata": {},
   "outputs": [],
   "source": [
    "# # split the column 'Ticket'\n",
    "# Ticket_split = []\n",
    "# Ticket_len = []\n",
    "# for i in train_data['Ticket'].index:\n",
    "#     splitted = train_data.loc[i,'Ticket'].split(' ')\n",
    "#     Ticket_split.append(splitted)\n",
    "#     length = len(splitted)\n",
    "#     Ticket_len.append(length)\n",
    "\n",
    "# train_data['Ticket_split'] = Ticket_split\n",
    "# train_data['Ticket_len'] = Ticket_len  "
   ]
  },
  {
   "cell_type": "code",
   "execution_count": 50,
   "id": "82fcc257",
   "metadata": {},
   "outputs": [],
   "source": [
    "# # df[['Ticket_len']].value_counts()\n",
    "# # df.loc[df['Ticket_len'] > 2, :] We can see tome typo errors.\n",
    "\n",
    "# # Create columns Ticket_preffix and Ticket_number\n",
    "# ticket_preffix = []\n",
    "# ticket_number = []\n",
    "# for i in train_data['Ticket'].index:\n",
    "#     ticket_parts = train_data.loc[i, 'Ticket_split']\n",
    "#     number = ticket_parts[-1]\n",
    "#     ticket_number.append(number)\n",
    "#     length = train_data.loc[i, 'Ticket_len'].item()\n",
    "#     if length > 1:\n",
    "#         preffix = ''.join(ticket_parts[0:-1])\n",
    "#         ticket_preffix.append(preffix)\n",
    "#     else:\n",
    "#         ticket_preffix.append('blank')"
   ]
  },
  {
   "cell_type": "code",
   "execution_count": 51,
   "id": "651edf45",
   "metadata": {},
   "outputs": [],
   "source": [
    "# train_data['Ticket_preffix'] = ticket_preffix\n",
    "# train_data['Ticket_number'] = ticket_number\n",
    "# # drop unnecessary columns created\n",
    "# train_data.drop(columns=['Ticket_split', 'Ticket_len'], inplace=True)\n",
    "\n",
    "# train_data.Ticket_preffix.unique()"
   ]
  },
  {
   "cell_type": "code",
   "execution_count": 52,
   "id": "242eed7a",
   "metadata": {},
   "outputs": [],
   "source": [
    "# df_grouped = train_data.groupby(['Ticket_preffix', 'Embarked']).agg({'Survived': ['sum', lambda x: x.count() - x.sum()]})\n",
    "# df_grouped.columns = ['Survived', 'Non-Survived']\n",
    "# df_grouped['Count'] = train_data.groupby(['Ticket_preffix', 'Embarked']).size()\n",
    "# df_grouped"
   ]
  },
  {
   "cell_type": "markdown",
   "id": "fdf46ddd",
   "metadata": {},
   "source": [
    "We extract implicit info, from duplicated values in the variable ticket. We create a new var to describe it, by engineering a new variable companions"
   ]
  },
  {
   "cell_type": "code",
   "execution_count": 53,
   "id": "cc76b998",
   "metadata": {},
   "outputs": [],
   "source": [
    "# n_alone , n_duplicates = train_data['Ticket'].duplicated(keep=False).astype(int).value_counts()\n",
    "# print(\"Number of duplicated ticket values:\", n_duplicates)\n",
    "# print(\"Number of non-duplicated ticket values:\", n_alone)"
   ]
  },
  {
   "cell_type": "code",
   "execution_count": 54,
   "id": "9c8dfea2",
   "metadata": {},
   "outputs": [],
   "source": [
    "# train_data['Companions'] = train_data['Ticket'].duplicated(keep=False).astype(int) * train_data.groupby('Ticket')['Ticket'].transform('count') -1 \n",
    "# train_data.loc[train_data['Companions'] == -1, 'Companions'] = 0"
   ]
  },
  {
   "cell_type": "code",
   "execution_count": 55,
   "id": "d1807a16",
   "metadata": {},
   "outputs": [],
   "source": [
    "# train_data['Companions'].value_counts()"
   ]
  },
  {
   "cell_type": "code",
   "execution_count": 56,
   "id": "f9392c8e",
   "metadata": {},
   "outputs": [],
   "source": [
    "# train_data['FamilySize'] = train_data['SibSp'] + train_data['Parch']\n",
    "# print(train_data[['SibSp','Parch','FamilySize', 'Survived']].groupby(['FamilySize'], as_index=False).mean().sort_values(by = 'Survived'))"
   ]
  },
  {
   "cell_type": "code",
   "execution_count": null,
   "id": "10f6ffa4",
   "metadata": {},
   "outputs": [],
   "source": [
    "\n"
   ]
  },
  {
   "cell_type": "code",
   "execution_count": 57,
   "id": "a661893f",
   "metadata": {},
   "outputs": [],
   "source": [
    "# train_data['Title'] = train_data['Title'].replace(['Lady', 'Countess','Capt', 'Col',\n",
    "#   'Don', 'Dr', 'Major', 'Rev', 'Sir', 'Jonkheer', 'Dona'], 'noble')\n",
    "# train_data['Title'] = train_data['Title'].replace('Mlle', 'Miss')\n",
    "# train_data['Title'] = train_data['Title'].replace('Ms', 'Mrs')\n",
    "# train_data['Title'] = train_data['Title'].replace('Mme', 'Mrs')"
   ]
  },
  {
   "cell_type": "code",
   "execution_count": 58,
   "id": "cab64bdf",
   "metadata": {},
   "outputs": [],
   "source": [
    "# # Check the survival rate for the title cathegories obtained\n",
    "# df_grouped = train_data.groupby(['Title', 'Sex']).agg({'Survived': ['sum', lambda x: x.count() - x.sum()]})\n",
    "# df_grouped.columns = ['Survived', 'Non-Survived']\n",
    "# df_grouped['Count'] = train_data.groupby(['Title', 'Sex']).size()\n",
    "# # Calculate the survived/non-survived rate\n",
    "# df_grouped['Survival Rate'] = df_grouped['Survived'] / (df_grouped['Survived'] + df_grouped['Non-Survived'])\n",
    "# # Order the DataFrame by the survival rate in descending order\n",
    "# df_grouped = df_grouped.sort_values('Survival Rate', ascending=False)\n",
    "\n",
    "# print(df_grouped)"
   ]
  },
  {
   "cell_type": "code",
   "execution_count": 59,
   "id": "65571660",
   "metadata": {},
   "outputs": [],
   "source": [
    "# train_data['noble'] = train_data['Title'].apply(lambda x: 1  if x =='noble'  else 0)\n",
    "# train_data['noble'].value_counts()"
   ]
  },
  {
   "cell_type": "code",
   "execution_count": 60,
   "id": "533f0fef",
   "metadata": {},
   "outputs": [],
   "source": [
    "# # fill with the median Fare for the Pclass = 3 and Sex= male.\n",
    "# Fare_Pclass3_male = train_data.loc[(train_data['Pclass'] == 3) & (train_data['Sex'] == 'male'), 'Fare'].median()\n",
    "# train_data.loc[train_data['PassengerId'] == 1044, 'Fare'] = train_data.loc[(train_data['Pclass'] == 3) & (train_data['Sex'] == 'male'), 'Fare'].median()\n",
    "# print(\"medium Fare for Sex = male and Pclass=3: \", Fare_Pclass3_male)"
   ]
  },
  {
   "cell_type": "code",
   "execution_count": 61,
   "id": "ed919551",
   "metadata": {},
   "outputs": [],
   "source": [
    "# # Divide Fare in 10 levels\n",
    "# n = 10\n",
    "# train_data['Fare_level'] = pd.cut(train_data['Fare'], n, labels=np.arange(1,n+1))\n",
    "# train_data['Fare_range'] = pd.cut(train_data['Fare'], n)"
   ]
  },
  {
   "cell_type": "code",
   "execution_count": 62,
   "id": "d7d69e75",
   "metadata": {},
   "outputs": [],
   "source": [
    "# # Calculate survival probability for each fare level\n",
    "# fare_survival_grouped = train_data.groupby('Fare_level').agg({'Fare_range': ['first', 'count'], 'Survived': 'mean'}).reset_index()\n",
    "# fare_survival_grouped.columns = ['Fare_level', 'Fare_range', 'Count', 'Survival_proba']\n",
    "# fare_survival_grouped = fare_survival_grouped.reset_index(drop=True)\n",
    "# fare_survival_grouped"
   ]
  },
  {
   "cell_type": "code",
   "execution_count": 63,
   "id": "2aba3336",
   "metadata": {},
   "outputs": [],
   "source": [
    "# train_data.head()"
   ]
  },
  {
   "cell_type": "markdown",
   "id": "c219221b",
   "metadata": {},
   "source": [
    "### Naïve Baseline Model"
   ]
  },
  {
   "cell_type": "code",
   "execution_count": 64,
   "id": "a7af51b4",
   "metadata": {},
   "outputs": [
    {
     "name": "stdout",
     "output_type": "stream",
     "text": [
      "Naive Baseline Accuracy: 0.6161616161616161\n"
     ]
    }
   ],
   "source": [
    "import pandas as pd\n",
    "from sklearn.metrics import accuracy_score\n",
    "\n",
    "# Compute the mode of the 'Survived' column\n",
    "mode_prediction = train_data_cleaned['Survived'].mode()[0]\n",
    "\n",
    "# Create predictions by replicating the mode value for the length of the dataset\n",
    "predictions = [mode_prediction] * len(train_data_cleaned['Survived'])\n",
    "\n",
    "# Calculate accuracy by comparing predictions with the actual 'Survived' values\n",
    "accuracy = accuracy_score(train_data_cleaned['Survived'], predictions)\n",
    "\n",
    "print(\"Naive Baseline Accuracy:\", accuracy)\n"
   ]
  },
  {
   "cell_type": "code",
   "execution_count": 65,
   "id": "d42183f5",
   "metadata": {
    "scrolled": false
   },
   "outputs": [
    {
     "data": {
      "text/html": [
       "<div>\n",
       "<style scoped>\n",
       "    .dataframe tbody tr th:only-of-type {\n",
       "        vertical-align: middle;\n",
       "    }\n",
       "\n",
       "    .dataframe tbody tr th {\n",
       "        vertical-align: top;\n",
       "    }\n",
       "\n",
       "    .dataframe thead th {\n",
       "        text-align: right;\n",
       "    }\n",
       "</style>\n",
       "<table border=\"1\" class=\"dataframe\">\n",
       "  <thead>\n",
       "    <tr style=\"text-align: right;\">\n",
       "      <th></th>\n",
       "      <th>Survived</th>\n",
       "      <th>Pclass</th>\n",
       "      <th>Age</th>\n",
       "      <th>SibSp</th>\n",
       "      <th>Parch</th>\n",
       "      <th>Fare</th>\n",
       "      <th>Is_male</th>\n",
       "      <th>Embarked_code</th>\n",
       "    </tr>\n",
       "  </thead>\n",
       "  <tbody>\n",
       "    <tr>\n",
       "      <th>0</th>\n",
       "      <td>0</td>\n",
       "      <td>3</td>\n",
       "      <td>-0.523388</td>\n",
       "      <td>1</td>\n",
       "      <td>0</td>\n",
       "      <td>-0.878820</td>\n",
       "      <td>1</td>\n",
       "      <td>3</td>\n",
       "    </tr>\n",
       "    <tr>\n",
       "      <th>1</th>\n",
       "      <td>1</td>\n",
       "      <td>1</td>\n",
       "      <td>0.685109</td>\n",
       "      <td>1</td>\n",
       "      <td>0</td>\n",
       "      <td>1.336651</td>\n",
       "      <td>0</td>\n",
       "      <td>1</td>\n",
       "    </tr>\n",
       "    <tr>\n",
       "      <th>2</th>\n",
       "      <td>1</td>\n",
       "      <td>3</td>\n",
       "      <td>-0.208093</td>\n",
       "      <td>0</td>\n",
       "      <td>0</td>\n",
       "      <td>-0.790065</td>\n",
       "      <td>0</td>\n",
       "      <td>3</td>\n",
       "    </tr>\n",
       "    <tr>\n",
       "      <th>3</th>\n",
       "      <td>1</td>\n",
       "      <td>1</td>\n",
       "      <td>0.468033</td>\n",
       "      <td>1</td>\n",
       "      <td>0</td>\n",
       "      <td>1.067352</td>\n",
       "      <td>0</td>\n",
       "      <td>3</td>\n",
       "    </tr>\n",
       "    <tr>\n",
       "      <th>4</th>\n",
       "      <td>0</td>\n",
       "      <td>3</td>\n",
       "      <td>0.468033</td>\n",
       "      <td>0</td>\n",
       "      <td>0</td>\n",
       "      <td>-0.774439</td>\n",
       "      <td>1</td>\n",
       "      <td>3</td>\n",
       "    </tr>\n",
       "    <tr>\n",
       "      <th>...</th>\n",
       "      <td>...</td>\n",
       "      <td>...</td>\n",
       "      <td>...</td>\n",
       "      <td>...</td>\n",
       "      <td>...</td>\n",
       "      <td>...</td>\n",
       "      <td>...</td>\n",
       "      <td>...</td>\n",
       "    </tr>\n",
       "    <tr>\n",
       "      <th>886</th>\n",
       "      <td>0</td>\n",
       "      <td>2</td>\n",
       "      <td>-0.130855</td>\n",
       "      <td>0</td>\n",
       "      <td>0</td>\n",
       "      <td>-0.294907</td>\n",
       "      <td>1</td>\n",
       "      <td>3</td>\n",
       "    </tr>\n",
       "    <tr>\n",
       "      <th>887</th>\n",
       "      <td>1</td>\n",
       "      <td>1</td>\n",
       "      <td>-0.767474</td>\n",
       "      <td>0</td>\n",
       "      <td>0</td>\n",
       "      <td>0.527906</td>\n",
       "      <td>0</td>\n",
       "      <td>3</td>\n",
       "    </tr>\n",
       "    <tr>\n",
       "      <th>888</th>\n",
       "      <td>0</td>\n",
       "      <td>3</td>\n",
       "      <td>-0.054196</td>\n",
       "      <td>1</td>\n",
       "      <td>2</td>\n",
       "      <td>0.288885</td>\n",
       "      <td>0</td>\n",
       "      <td>3</td>\n",
       "    </tr>\n",
       "    <tr>\n",
       "      <th>889</th>\n",
       "      <td>1</td>\n",
       "      <td>1</td>\n",
       "      <td>-0.208093</td>\n",
       "      <td>0</td>\n",
       "      <td>0</td>\n",
       "      <td>0.527906</td>\n",
       "      <td>1</td>\n",
       "      <td>1</td>\n",
       "    </tr>\n",
       "    <tr>\n",
       "      <th>890</th>\n",
       "      <td>0</td>\n",
       "      <td>3</td>\n",
       "      <td>0.247109</td>\n",
       "      <td>0</td>\n",
       "      <td>0</td>\n",
       "      <td>-0.812349</td>\n",
       "      <td>1</td>\n",
       "      <td>2</td>\n",
       "    </tr>\n",
       "  </tbody>\n",
       "</table>\n",
       "<p>891 rows × 8 columns</p>\n",
       "</div>"
      ],
      "text/plain": [
       "     Survived  Pclass       Age  SibSp  Parch      Fare  Is_male  \\\n",
       "0           0       3 -0.523388      1      0 -0.878820        1   \n",
       "1           1       1  0.685109      1      0  1.336651        0   \n",
       "2           1       3 -0.208093      0      0 -0.790065        0   \n",
       "3           1       1  0.468033      1      0  1.067352        0   \n",
       "4           0       3  0.468033      0      0 -0.774439        1   \n",
       "..        ...     ...       ...    ...    ...       ...      ...   \n",
       "886         0       2 -0.130855      0      0 -0.294907        1   \n",
       "887         1       1 -0.767474      0      0  0.527906        0   \n",
       "888         0       3 -0.054196      1      2  0.288885        0   \n",
       "889         1       1 -0.208093      0      0  0.527906        1   \n",
       "890         0       3  0.247109      0      0 -0.812349        1   \n",
       "\n",
       "     Embarked_code  \n",
       "0                3  \n",
       "1                1  \n",
       "2                3  \n",
       "3                3  \n",
       "4                3  \n",
       "..             ...  \n",
       "886              3  \n",
       "887              3  \n",
       "888              3  \n",
       "889              1  \n",
       "890              2  \n",
       "\n",
       "[891 rows x 8 columns]"
      ]
     },
     "execution_count": 65,
     "metadata": {},
     "output_type": "execute_result"
    }
   ],
   "source": [
    "train_data_scaled"
   ]
  },
  {
   "cell_type": "code",
   "execution_count": 66,
   "id": "d72a8fc0",
   "metadata": {},
   "outputs": [
    {
     "data": {
      "text/html": [
       "<div>\n",
       "<style scoped>\n",
       "    .dataframe tbody tr th:only-of-type {\n",
       "        vertical-align: middle;\n",
       "    }\n",
       "\n",
       "    .dataframe tbody tr th {\n",
       "        vertical-align: top;\n",
       "    }\n",
       "\n",
       "    .dataframe thead th {\n",
       "        text-align: right;\n",
       "    }\n",
       "</style>\n",
       "<table border=\"1\" class=\"dataframe\">\n",
       "  <thead>\n",
       "    <tr style=\"text-align: right;\">\n",
       "      <th></th>\n",
       "      <th>Pclass</th>\n",
       "      <th>Age</th>\n",
       "      <th>SibSp</th>\n",
       "      <th>Parch</th>\n",
       "      <th>Fare</th>\n",
       "      <th>Survived</th>\n",
       "      <th>Is_male</th>\n",
       "      <th>Embarked_code</th>\n",
       "    </tr>\n",
       "  </thead>\n",
       "  <tbody>\n",
       "    <tr>\n",
       "      <th>0</th>\n",
       "      <td>3</td>\n",
       "      <td>0.432975</td>\n",
       "      <td>0</td>\n",
       "      <td>0</td>\n",
       "      <td>-0.903049</td>\n",
       "      <td>0</td>\n",
       "      <td>1</td>\n",
       "      <td>2</td>\n",
       "    </tr>\n",
       "    <tr>\n",
       "      <th>1</th>\n",
       "      <td>3</td>\n",
       "      <td>1.330008</td>\n",
       "      <td>1</td>\n",
       "      <td>0</td>\n",
       "      <td>-1.042542</td>\n",
       "      <td>1</td>\n",
       "      <td>0</td>\n",
       "      <td>3</td>\n",
       "    </tr>\n",
       "    <tr>\n",
       "      <th>2</th>\n",
       "      <td>2</td>\n",
       "      <td>2.327412</td>\n",
       "      <td>0</td>\n",
       "      <td>0</td>\n",
       "      <td>-0.643707</td>\n",
       "      <td>0</td>\n",
       "      <td>1</td>\n",
       "      <td>2</td>\n",
       "    </tr>\n",
       "    <tr>\n",
       "      <th>3</th>\n",
       "      <td>3</td>\n",
       "      <td>-0.145793</td>\n",
       "      <td>0</td>\n",
       "      <td>0</td>\n",
       "      <td>-0.778850</td>\n",
       "      <td>0</td>\n",
       "      <td>1</td>\n",
       "      <td>3</td>\n",
       "    </tr>\n",
       "    <tr>\n",
       "      <th>4</th>\n",
       "      <td>3</td>\n",
       "      <td>-0.554798</td>\n",
       "      <td>1</td>\n",
       "      <td>1</td>\n",
       "      <td>-0.364663</td>\n",
       "      <td>1</td>\n",
       "      <td>0</td>\n",
       "      <td>3</td>\n",
       "    </tr>\n",
       "    <tr>\n",
       "      <th>...</th>\n",
       "      <td>...</td>\n",
       "      <td>...</td>\n",
       "      <td>...</td>\n",
       "      <td>...</td>\n",
       "      <td>...</td>\n",
       "      <td>...</td>\n",
       "      <td>...</td>\n",
       "      <td>...</td>\n",
       "    </tr>\n",
       "    <tr>\n",
       "      <th>413</th>\n",
       "      <td>3</td>\n",
       "      <td>-0.145793</td>\n",
       "      <td>0</td>\n",
       "      <td>0</td>\n",
       "      <td>-0.868718</td>\n",
       "      <td>0</td>\n",
       "      <td>1</td>\n",
       "      <td>3</td>\n",
       "    </tr>\n",
       "    <tr>\n",
       "      <th>414</th>\n",
       "      <td>1</td>\n",
       "      <td>0.764354</td>\n",
       "      <td>0</td>\n",
       "      <td>0</td>\n",
       "      <td>1.611158</td>\n",
       "      <td>1</td>\n",
       "      <td>0</td>\n",
       "      <td>1</td>\n",
       "    </tr>\n",
       "    <tr>\n",
       "      <th>415</th>\n",
       "      <td>3</td>\n",
       "      <td>0.728046</td>\n",
       "      <td>0</td>\n",
       "      <td>0</td>\n",
       "      <td>-0.998599</td>\n",
       "      <td>0</td>\n",
       "      <td>1</td>\n",
       "      <td>3</td>\n",
       "    </tr>\n",
       "    <tr>\n",
       "      <th>416</th>\n",
       "      <td>3</td>\n",
       "      <td>-0.145793</td>\n",
       "      <td>0</td>\n",
       "      <td>0</td>\n",
       "      <td>-0.868718</td>\n",
       "      <td>0</td>\n",
       "      <td>1</td>\n",
       "      <td>3</td>\n",
       "    </tr>\n",
       "    <tr>\n",
       "      <th>417</th>\n",
       "      <td>3</td>\n",
       "      <td>-0.145793</td>\n",
       "      <td>1</td>\n",
       "      <td>1</td>\n",
       "      <td>0.283143</td>\n",
       "      <td>0</td>\n",
       "      <td>1</td>\n",
       "      <td>1</td>\n",
       "    </tr>\n",
       "  </tbody>\n",
       "</table>\n",
       "<p>418 rows × 8 columns</p>\n",
       "</div>"
      ],
      "text/plain": [
       "     Pclass       Age  SibSp  Parch      Fare  Survived  Is_male  \\\n",
       "0         3  0.432975      0      0 -0.903049         0        1   \n",
       "1         3  1.330008      1      0 -1.042542         1        0   \n",
       "2         2  2.327412      0      0 -0.643707         0        1   \n",
       "3         3 -0.145793      0      0 -0.778850         0        1   \n",
       "4         3 -0.554798      1      1 -0.364663         1        0   \n",
       "..      ...       ...    ...    ...       ...       ...      ...   \n",
       "413       3 -0.145793      0      0 -0.868718         0        1   \n",
       "414       1  0.764354      0      0  1.611158         1        0   \n",
       "415       3  0.728046      0      0 -0.998599         0        1   \n",
       "416       3 -0.145793      0      0 -0.868718         0        1   \n",
       "417       3 -0.145793      1      1  0.283143         0        1   \n",
       "\n",
       "     Embarked_code  \n",
       "0                2  \n",
       "1                3  \n",
       "2                2  \n",
       "3                3  \n",
       "4                3  \n",
       "..             ...  \n",
       "413              3  \n",
       "414              1  \n",
       "415              3  \n",
       "416              3  \n",
       "417              1  \n",
       "\n",
       "[418 rows x 8 columns]"
      ]
     },
     "execution_count": 66,
     "metadata": {},
     "output_type": "execute_result"
    }
   ],
   "source": [
    "test_data_scaled"
   ]
  },
  {
   "cell_type": "code",
   "execution_count": 67,
   "id": "cc412946",
   "metadata": {
    "scrolled": true
   },
   "outputs": [
    {
     "data": {
      "text/html": [
       "<div>\n",
       "<style scoped>\n",
       "    .dataframe tbody tr th:only-of-type {\n",
       "        vertical-align: middle;\n",
       "    }\n",
       "\n",
       "    .dataframe tbody tr th {\n",
       "        vertical-align: top;\n",
       "    }\n",
       "\n",
       "    .dataframe thead th {\n",
       "        text-align: right;\n",
       "    }\n",
       "</style>\n",
       "<table border=\"1\" class=\"dataframe\">\n",
       "  <thead>\n",
       "    <tr style=\"text-align: right;\">\n",
       "      <th></th>\n",
       "      <th>Survived</th>\n",
       "      <th>Pclass</th>\n",
       "      <th>Age</th>\n",
       "      <th>SibSp</th>\n",
       "      <th>Parch</th>\n",
       "      <th>Ticket</th>\n",
       "      <th>Fare</th>\n",
       "      <th>Cabin</th>\n",
       "      <th>Is_male</th>\n",
       "      <th>Embarked_code</th>\n",
       "    </tr>\n",
       "  </thead>\n",
       "  <tbody>\n",
       "    <tr>\n",
       "      <th>0</th>\n",
       "      <td>0</td>\n",
       "      <td>3</td>\n",
       "      <td>22.0</td>\n",
       "      <td>1</td>\n",
       "      <td>0</td>\n",
       "      <td>A/5 21171</td>\n",
       "      <td>7.2500</td>\n",
       "      <td>NaN</td>\n",
       "      <td>1</td>\n",
       "      <td>3</td>\n",
       "    </tr>\n",
       "    <tr>\n",
       "      <th>1</th>\n",
       "      <td>1</td>\n",
       "      <td>1</td>\n",
       "      <td>38.0</td>\n",
       "      <td>1</td>\n",
       "      <td>0</td>\n",
       "      <td>PC 17599</td>\n",
       "      <td>34.6344</td>\n",
       "      <td>C85</td>\n",
       "      <td>0</td>\n",
       "      <td>1</td>\n",
       "    </tr>\n",
       "    <tr>\n",
       "      <th>2</th>\n",
       "      <td>1</td>\n",
       "      <td>3</td>\n",
       "      <td>26.0</td>\n",
       "      <td>0</td>\n",
       "      <td>0</td>\n",
       "      <td>STON/O2. 3101282</td>\n",
       "      <td>7.9250</td>\n",
       "      <td>NaN</td>\n",
       "      <td>0</td>\n",
       "      <td>3</td>\n",
       "    </tr>\n",
       "    <tr>\n",
       "      <th>3</th>\n",
       "      <td>1</td>\n",
       "      <td>1</td>\n",
       "      <td>35.0</td>\n",
       "      <td>1</td>\n",
       "      <td>0</td>\n",
       "      <td>113803</td>\n",
       "      <td>53.1000</td>\n",
       "      <td>C123</td>\n",
       "      <td>0</td>\n",
       "      <td>3</td>\n",
       "    </tr>\n",
       "    <tr>\n",
       "      <th>4</th>\n",
       "      <td>0</td>\n",
       "      <td>3</td>\n",
       "      <td>35.0</td>\n",
       "      <td>0</td>\n",
       "      <td>0</td>\n",
       "      <td>373450</td>\n",
       "      <td>8.0500</td>\n",
       "      <td>NaN</td>\n",
       "      <td>1</td>\n",
       "      <td>3</td>\n",
       "    </tr>\n",
       "    <tr>\n",
       "      <th>...</th>\n",
       "      <td>...</td>\n",
       "      <td>...</td>\n",
       "      <td>...</td>\n",
       "      <td>...</td>\n",
       "      <td>...</td>\n",
       "      <td>...</td>\n",
       "      <td>...</td>\n",
       "      <td>...</td>\n",
       "      <td>...</td>\n",
       "      <td>...</td>\n",
       "    </tr>\n",
       "    <tr>\n",
       "      <th>886</th>\n",
       "      <td>0</td>\n",
       "      <td>2</td>\n",
       "      <td>27.0</td>\n",
       "      <td>0</td>\n",
       "      <td>0</td>\n",
       "      <td>211536</td>\n",
       "      <td>13.0000</td>\n",
       "      <td>NaN</td>\n",
       "      <td>1</td>\n",
       "      <td>3</td>\n",
       "    </tr>\n",
       "    <tr>\n",
       "      <th>887</th>\n",
       "      <td>1</td>\n",
       "      <td>1</td>\n",
       "      <td>19.0</td>\n",
       "      <td>0</td>\n",
       "      <td>0</td>\n",
       "      <td>112053</td>\n",
       "      <td>30.0000</td>\n",
       "      <td>B42</td>\n",
       "      <td>0</td>\n",
       "      <td>3</td>\n",
       "    </tr>\n",
       "    <tr>\n",
       "      <th>888</th>\n",
       "      <td>0</td>\n",
       "      <td>3</td>\n",
       "      <td>28.0</td>\n",
       "      <td>1</td>\n",
       "      <td>2</td>\n",
       "      <td>W./C. 6607</td>\n",
       "      <td>23.4500</td>\n",
       "      <td>NaN</td>\n",
       "      <td>0</td>\n",
       "      <td>3</td>\n",
       "    </tr>\n",
       "    <tr>\n",
       "      <th>889</th>\n",
       "      <td>1</td>\n",
       "      <td>1</td>\n",
       "      <td>26.0</td>\n",
       "      <td>0</td>\n",
       "      <td>0</td>\n",
       "      <td>111369</td>\n",
       "      <td>30.0000</td>\n",
       "      <td>C148</td>\n",
       "      <td>1</td>\n",
       "      <td>1</td>\n",
       "    </tr>\n",
       "    <tr>\n",
       "      <th>890</th>\n",
       "      <td>0</td>\n",
       "      <td>3</td>\n",
       "      <td>32.0</td>\n",
       "      <td>0</td>\n",
       "      <td>0</td>\n",
       "      <td>370376</td>\n",
       "      <td>7.7500</td>\n",
       "      <td>NaN</td>\n",
       "      <td>1</td>\n",
       "      <td>2</td>\n",
       "    </tr>\n",
       "  </tbody>\n",
       "</table>\n",
       "<p>891 rows × 10 columns</p>\n",
       "</div>"
      ],
      "text/plain": [
       "     Survived  Pclass   Age  SibSp  Parch            Ticket     Fare Cabin  \\\n",
       "0           0       3  22.0      1      0         A/5 21171   7.2500   NaN   \n",
       "1           1       1  38.0      1      0          PC 17599  34.6344   C85   \n",
       "2           1       3  26.0      0      0  STON/O2. 3101282   7.9250   NaN   \n",
       "3           1       1  35.0      1      0            113803  53.1000  C123   \n",
       "4           0       3  35.0      0      0            373450   8.0500   NaN   \n",
       "..        ...     ...   ...    ...    ...               ...      ...   ...   \n",
       "886         0       2  27.0      0      0            211536  13.0000   NaN   \n",
       "887         1       1  19.0      0      0            112053  30.0000   B42   \n",
       "888         0       3  28.0      1      2        W./C. 6607  23.4500   NaN   \n",
       "889         1       1  26.0      0      0            111369  30.0000  C148   \n",
       "890         0       3  32.0      0      0            370376   7.7500   NaN   \n",
       "\n",
       "     Is_male  Embarked_code  \n",
       "0          1              3  \n",
       "1          0              1  \n",
       "2          0              3  \n",
       "3          0              3  \n",
       "4          1              3  \n",
       "..       ...            ...  \n",
       "886        1              3  \n",
       "887        0              3  \n",
       "888        0              3  \n",
       "889        1              1  \n",
       "890        1              2  \n",
       "\n",
       "[891 rows x 10 columns]"
      ]
     },
     "execution_count": 67,
     "metadata": {},
     "output_type": "execute_result"
    }
   ],
   "source": [
    "train_data_cleaned"
   ]
  },
  {
   "cell_type": "code",
   "execution_count": 68,
   "id": "ca58c90e",
   "metadata": {},
   "outputs": [],
   "source": [
    "train_data_features = train_data_scaled.drop(['Survived'], axis=1)\n",
    "test_data_features = test_data_scaled.drop(['Survived'], axis=1)"
   ]
  },
  {
   "cell_type": "code",
   "execution_count": 69,
   "id": "08aea555",
   "metadata": {},
   "outputs": [
    {
     "name": "stdout",
     "output_type": "stream",
     "text": [
      "Accuracy of the baseline model: 0.930622009569378\n"
     ]
    }
   ],
   "source": [
    "import pandas as pd\n",
    "from sklearn.model_selection import train_test_split\n",
    "from sklearn.linear_model import LogisticRegression\n",
    "from sklearn.metrics import accuracy_score\n",
    "from sklearn.preprocessing import StandardScaler\n",
    "from sklearn.pipeline import make_pipeline\n",
    "\n",
    "# Define features and target variable\n",
    "#features = ['Pclass', 'Is_male', 'Age']\n",
    "target = 'Survived'\n",
    "\n",
    "# Split the data into train and test sets\n",
    "X_train, X_test, y_train, y_test = train_test_split(train_data_scaled, train_data_scaled[target], test_size=0.2, random_state=42)\n",
    "\n",
    "# Build a simple logistic regression model\n",
    "model = make_pipeline(StandardScaler(), LogisticRegression())\n",
    "\n",
    "# Train the model\n",
    "model.fit(train_data_features, train_data_scaled['Survived'])\n",
    "\n",
    "# Make predictions on the test set\n",
    "y_pred = model.predict(test_data_features)\n",
    "\n",
    "# Evaluate the model\n",
    "accuracy = accuracy_score(test_data_scaled['Survived'], y_pred)\n",
    "print(\"Accuracy of the baseline model:\", accuracy)"
   ]
  },
  {
   "cell_type": "code",
   "execution_count": null,
   "id": "9f1d71f2",
   "metadata": {},
   "outputs": [],
   "source": []
  },
  {
   "cell_type": "code",
   "execution_count": null,
   "id": "580534f9",
   "metadata": {},
   "outputs": [],
   "source": []
  }
 ],
 "metadata": {
  "kernelspec": {
   "display_name": "Python 3 (ipykernel)",
   "language": "python",
   "name": "python3"
  },
  "language_info": {
   "codemirror_mode": {
    "name": "ipython",
    "version": 3
   },
   "file_extension": ".py",
   "mimetype": "text/x-python",
   "name": "python",
   "nbconvert_exporter": "python",
   "pygments_lexer": "ipython3",
   "version": "3.9.12"
  }
 },
 "nbformat": 4,
 "nbformat_minor": 5
}
